{
 "cells": [
  {
   "cell_type": "markdown",
   "metadata": {},
   "source": [
    "# Lab | Cleaning numerical data\n",
    "\n",
    "For this lab, we will be using the dataset in the Customer Analysis Business Case. This dataset can be found in files_for_lab folder.\n",
    "\n",
    "Context\n",
    "An auto insurance company has collected some data about its customers including their demographics, education, employment, policy details, vehicle information on which insurance policy is, and claim amounts. You will help the senior management with some business questions that will help them to better understand their customers, improve their services, and improve profitability.\n",
    "\n",
    "Some business Objectives:\n",
    "\n",
    "Retain customers,\n",
    "\n",
    "Analyze relevant customer data,\n",
    "\n",
    "Develop focused customer retention programs.\n",
    "\n",
    "Based on the analysis, take targeted actions to increase profitable customer response, retention, and growth.\n",
    "\n",
    "\n",
    "\n",
    "### Instructions\n",
    "\n",
    "Import the necessary libraries.\n",
    "\n",
    "Load the we_fn_use_c_marketing_customer_value_analysis.csv into the variable customer_df.\n",
    "\n",
    "First look at its main features (head, shape, info).\n",
    "\n",
    "Rename the columns so they follow the PE8 (snake case).\n",
    "\n",
    "Change effective to date column to datetime format.\n",
    "\n",
    "Check NaN values per column.\n",
    "\n",
    "Define a function that differentiates between continuous and discrete variables. Hint: A number of unique values might be useful. Store continuous data into a continuous variable and do the same for discrete and categorical.\n",
    "\n",
    "For the categorical data, check if there is some kind of text in a variable so we would need to clean it. Hint: Use the same method you used in step 7. Depending on the implementation, decide what to do with the variables you get.\n",
    "\n",
    "Get categorical features.\n",
    "\n",
    "What should we do with the customer_id column? "
   ]
  },
  {
   "cell_type": "markdown",
   "metadata": {},
   "source": [
    "### Import the necessary libraries."
   ]
  },
  {
   "cell_type": "code",
   "execution_count": 1,
   "metadata": {},
   "outputs": [],
   "source": [
    "import pandas as pd\n",
    "import numpy as np\n",
    "import matplotlib.pyplot as plt\n",
    "import seaborn as sns\n",
    "import scipy.stats as stats\n",
    "import math\n",
    "import warnings\n",
    "from scipy import stats\n",
    "from scipy.stats import skew\n",
    "from scipy.stats import kurtosis\n",
    "from sklearn import linear_model\n",
    "from sklearn.preprocessing import Normalizer\n",
    "from sklearn.preprocessing import StandardScaler\n",
    "from sklearn.linear_model import LogisticRegression\n",
    "from sklearn.metrics import cohen_kappa_score\n",
    "from imblearn.under_sampling import RandomUnderSampler\n",
    "from imblearn.over_sampling import RandomOverSampler\n",
    "from sklearn.metrics import confusion_matrix, plot_confusion_matrix\n",
    "from sklearn.metrics import mean_squared_error, r2_score\n",
    "from sklearn.model_selection import train_test_split #we need the train_test split \n",
    "from sklearn.preprocessing import OneHotEncoder\n",
    "\n",
    "pd.set_option('display.max_columns', None)\n",
    "warnings.filterwarnings('ignore')\n",
    "%matplotlib inline"
   ]
  },
  {
   "cell_type": "markdown",
   "metadata": {},
   "source": [
    "### Load the we_fn_use_c_marketing_customer_value_analysis.csv into the variable customer_df.\n",
    " ### First look at its main features (head, shape, info).\n"
   ]
  },
  {
   "cell_type": "code",
   "execution_count": 2,
   "metadata": {},
   "outputs": [
    {
     "data": {
      "text/html": [
       "<div>\n",
       "<style scoped>\n",
       "    .dataframe tbody tr th:only-of-type {\n",
       "        vertical-align: middle;\n",
       "    }\n",
       "\n",
       "    .dataframe tbody tr th {\n",
       "        vertical-align: top;\n",
       "    }\n",
       "\n",
       "    .dataframe thead th {\n",
       "        text-align: right;\n",
       "    }\n",
       "</style>\n",
       "<table border=\"1\" class=\"dataframe\">\n",
       "  <thead>\n",
       "    <tr style=\"text-align: right;\">\n",
       "      <th></th>\n",
       "      <th>Customer</th>\n",
       "      <th>State</th>\n",
       "      <th>Customer Lifetime Value</th>\n",
       "      <th>Response</th>\n",
       "      <th>Coverage</th>\n",
       "      <th>Education</th>\n",
       "      <th>Effective To Date</th>\n",
       "      <th>EmploymentStatus</th>\n",
       "      <th>Gender</th>\n",
       "      <th>Income</th>\n",
       "      <th>Location Code</th>\n",
       "      <th>Marital Status</th>\n",
       "      <th>Monthly Premium Auto</th>\n",
       "      <th>Months Since Last Claim</th>\n",
       "      <th>Months Since Policy Inception</th>\n",
       "      <th>Number of Open Complaints</th>\n",
       "      <th>Number of Policies</th>\n",
       "      <th>Policy Type</th>\n",
       "      <th>Policy</th>\n",
       "      <th>Renew Offer Type</th>\n",
       "      <th>Sales Channel</th>\n",
       "      <th>Total Claim Amount</th>\n",
       "      <th>Vehicle Class</th>\n",
       "      <th>Vehicle Size</th>\n",
       "    </tr>\n",
       "  </thead>\n",
       "  <tbody>\n",
       "    <tr>\n",
       "      <th>0</th>\n",
       "      <td>BU79786</td>\n",
       "      <td>Washington</td>\n",
       "      <td>2763.519279</td>\n",
       "      <td>No</td>\n",
       "      <td>Basic</td>\n",
       "      <td>Bachelor</td>\n",
       "      <td>2/24/11</td>\n",
       "      <td>Employed</td>\n",
       "      <td>F</td>\n",
       "      <td>56274</td>\n",
       "      <td>Suburban</td>\n",
       "      <td>Married</td>\n",
       "      <td>69</td>\n",
       "      <td>32</td>\n",
       "      <td>5</td>\n",
       "      <td>0</td>\n",
       "      <td>1</td>\n",
       "      <td>Corporate Auto</td>\n",
       "      <td>Corporate L3</td>\n",
       "      <td>Offer1</td>\n",
       "      <td>Agent</td>\n",
       "      <td>384.811147</td>\n",
       "      <td>Two-Door Car</td>\n",
       "      <td>Medsize</td>\n",
       "    </tr>\n",
       "    <tr>\n",
       "      <th>1</th>\n",
       "      <td>QZ44356</td>\n",
       "      <td>Arizona</td>\n",
       "      <td>6979.535903</td>\n",
       "      <td>No</td>\n",
       "      <td>Extended</td>\n",
       "      <td>Bachelor</td>\n",
       "      <td>1/31/11</td>\n",
       "      <td>Unemployed</td>\n",
       "      <td>F</td>\n",
       "      <td>0</td>\n",
       "      <td>Suburban</td>\n",
       "      <td>Single</td>\n",
       "      <td>94</td>\n",
       "      <td>13</td>\n",
       "      <td>42</td>\n",
       "      <td>0</td>\n",
       "      <td>8</td>\n",
       "      <td>Personal Auto</td>\n",
       "      <td>Personal L3</td>\n",
       "      <td>Offer3</td>\n",
       "      <td>Agent</td>\n",
       "      <td>1131.464935</td>\n",
       "      <td>Four-Door Car</td>\n",
       "      <td>Medsize</td>\n",
       "    </tr>\n",
       "    <tr>\n",
       "      <th>2</th>\n",
       "      <td>AI49188</td>\n",
       "      <td>Nevada</td>\n",
       "      <td>12887.431650</td>\n",
       "      <td>No</td>\n",
       "      <td>Premium</td>\n",
       "      <td>Bachelor</td>\n",
       "      <td>2/19/11</td>\n",
       "      <td>Employed</td>\n",
       "      <td>F</td>\n",
       "      <td>48767</td>\n",
       "      <td>Suburban</td>\n",
       "      <td>Married</td>\n",
       "      <td>108</td>\n",
       "      <td>18</td>\n",
       "      <td>38</td>\n",
       "      <td>0</td>\n",
       "      <td>2</td>\n",
       "      <td>Personal Auto</td>\n",
       "      <td>Personal L3</td>\n",
       "      <td>Offer1</td>\n",
       "      <td>Agent</td>\n",
       "      <td>566.472247</td>\n",
       "      <td>Two-Door Car</td>\n",
       "      <td>Medsize</td>\n",
       "    </tr>\n",
       "    <tr>\n",
       "      <th>3</th>\n",
       "      <td>WW63253</td>\n",
       "      <td>California</td>\n",
       "      <td>7645.861827</td>\n",
       "      <td>No</td>\n",
       "      <td>Basic</td>\n",
       "      <td>Bachelor</td>\n",
       "      <td>1/20/11</td>\n",
       "      <td>Unemployed</td>\n",
       "      <td>M</td>\n",
       "      <td>0</td>\n",
       "      <td>Suburban</td>\n",
       "      <td>Married</td>\n",
       "      <td>106</td>\n",
       "      <td>18</td>\n",
       "      <td>65</td>\n",
       "      <td>0</td>\n",
       "      <td>7</td>\n",
       "      <td>Corporate Auto</td>\n",
       "      <td>Corporate L2</td>\n",
       "      <td>Offer1</td>\n",
       "      <td>Call Center</td>\n",
       "      <td>529.881344</td>\n",
       "      <td>SUV</td>\n",
       "      <td>Medsize</td>\n",
       "    </tr>\n",
       "    <tr>\n",
       "      <th>4</th>\n",
       "      <td>HB64268</td>\n",
       "      <td>Washington</td>\n",
       "      <td>2813.692575</td>\n",
       "      <td>No</td>\n",
       "      <td>Basic</td>\n",
       "      <td>Bachelor</td>\n",
       "      <td>2/3/11</td>\n",
       "      <td>Employed</td>\n",
       "      <td>M</td>\n",
       "      <td>43836</td>\n",
       "      <td>Rural</td>\n",
       "      <td>Single</td>\n",
       "      <td>73</td>\n",
       "      <td>12</td>\n",
       "      <td>44</td>\n",
       "      <td>0</td>\n",
       "      <td>1</td>\n",
       "      <td>Personal Auto</td>\n",
       "      <td>Personal L1</td>\n",
       "      <td>Offer1</td>\n",
       "      <td>Agent</td>\n",
       "      <td>138.130879</td>\n",
       "      <td>Four-Door Car</td>\n",
       "      <td>Medsize</td>\n",
       "    </tr>\n",
       "  </tbody>\n",
       "</table>\n",
       "</div>"
      ],
      "text/plain": [
       "  Customer       State  Customer Lifetime Value Response  Coverage Education  \\\n",
       "0  BU79786  Washington              2763.519279       No     Basic  Bachelor   \n",
       "1  QZ44356     Arizona              6979.535903       No  Extended  Bachelor   \n",
       "2  AI49188      Nevada             12887.431650       No   Premium  Bachelor   \n",
       "3  WW63253  California              7645.861827       No     Basic  Bachelor   \n",
       "4  HB64268  Washington              2813.692575       No     Basic  Bachelor   \n",
       "\n",
       "  Effective To Date EmploymentStatus Gender  Income Location Code  \\\n",
       "0           2/24/11         Employed      F   56274      Suburban   \n",
       "1           1/31/11       Unemployed      F       0      Suburban   \n",
       "2           2/19/11         Employed      F   48767      Suburban   \n",
       "3           1/20/11       Unemployed      M       0      Suburban   \n",
       "4            2/3/11         Employed      M   43836         Rural   \n",
       "\n",
       "  Marital Status  Monthly Premium Auto  Months Since Last Claim  \\\n",
       "0        Married                    69                       32   \n",
       "1         Single                    94                       13   \n",
       "2        Married                   108                       18   \n",
       "3        Married                   106                       18   \n",
       "4         Single                    73                       12   \n",
       "\n",
       "   Months Since Policy Inception  Number of Open Complaints  \\\n",
       "0                              5                          0   \n",
       "1                             42                          0   \n",
       "2                             38                          0   \n",
       "3                             65                          0   \n",
       "4                             44                          0   \n",
       "\n",
       "   Number of Policies     Policy Type        Policy Renew Offer Type  \\\n",
       "0                   1  Corporate Auto  Corporate L3           Offer1   \n",
       "1                   8   Personal Auto   Personal L3           Offer3   \n",
       "2                   2   Personal Auto   Personal L3           Offer1   \n",
       "3                   7  Corporate Auto  Corporate L2           Offer1   \n",
       "4                   1   Personal Auto   Personal L1           Offer1   \n",
       "\n",
       "  Sales Channel  Total Claim Amount  Vehicle Class Vehicle Size  \n",
       "0         Agent          384.811147   Two-Door Car      Medsize  \n",
       "1         Agent         1131.464935  Four-Door Car      Medsize  \n",
       "2         Agent          566.472247   Two-Door Car      Medsize  \n",
       "3   Call Center          529.881344            SUV      Medsize  \n",
       "4         Agent          138.130879  Four-Door Car      Medsize  "
      ]
     },
     "execution_count": 2,
     "metadata": {},
     "output_type": "execute_result"
    }
   ],
   "source": [
    "customer_df = pd.read_csv('we_fn_use_c_marketing_customer_value_analysis.csv')\n",
    "customer_df.head()"
   ]
  },
  {
   "cell_type": "code",
   "execution_count": 3,
   "metadata": {},
   "outputs": [
    {
     "data": {
      "text/plain": [
       "(9134, 24)"
      ]
     },
     "execution_count": 3,
     "metadata": {},
     "output_type": "execute_result"
    }
   ],
   "source": [
    "customer_df.shape"
   ]
  },
  {
   "cell_type": "code",
   "execution_count": 4,
   "metadata": {},
   "outputs": [
    {
     "name": "stdout",
     "output_type": "stream",
     "text": [
      "<class 'pandas.core.frame.DataFrame'>\n",
      "RangeIndex: 9134 entries, 0 to 9133\n",
      "Data columns (total 24 columns):\n",
      " #   Column                         Non-Null Count  Dtype  \n",
      "---  ------                         --------------  -----  \n",
      " 0   Customer                       9134 non-null   object \n",
      " 1   State                          9134 non-null   object \n",
      " 2   Customer Lifetime Value        9134 non-null   float64\n",
      " 3   Response                       9134 non-null   object \n",
      " 4   Coverage                       9134 non-null   object \n",
      " 5   Education                      9134 non-null   object \n",
      " 6   Effective To Date              9134 non-null   object \n",
      " 7   EmploymentStatus               9134 non-null   object \n",
      " 8   Gender                         9134 non-null   object \n",
      " 9   Income                         9134 non-null   int64  \n",
      " 10  Location Code                  9134 non-null   object \n",
      " 11  Marital Status                 9134 non-null   object \n",
      " 12  Monthly Premium Auto           9134 non-null   int64  \n",
      " 13  Months Since Last Claim        9134 non-null   int64  \n",
      " 14  Months Since Policy Inception  9134 non-null   int64  \n",
      " 15  Number of Open Complaints      9134 non-null   int64  \n",
      " 16  Number of Policies             9134 non-null   int64  \n",
      " 17  Policy Type                    9134 non-null   object \n",
      " 18  Policy                         9134 non-null   object \n",
      " 19  Renew Offer Type               9134 non-null   object \n",
      " 20  Sales Channel                  9134 non-null   object \n",
      " 21  Total Claim Amount             9134 non-null   float64\n",
      " 22  Vehicle Class                  9134 non-null   object \n",
      " 23  Vehicle Size                   9134 non-null   object \n",
      "dtypes: float64(2), int64(6), object(16)\n",
      "memory usage: 1.7+ MB\n"
     ]
    }
   ],
   "source": [
    "customer_df.info()"
   ]
  },
  {
   "cell_type": "markdown",
   "metadata": {},
   "source": [
    "### Rename the columns so they follow the PE8 (snake case).\n"
   ]
  },
  {
   "cell_type": "code",
   "execution_count": 5,
   "metadata": {},
   "outputs": [
    {
     "data": {
      "text/plain": [
       "Index(['customer', 'state', 'customer_lifetime_value', 'response', 'coverage',\n",
       "       'education', 'effective_to_date', 'employmentstatus', 'gender',\n",
       "       'income', 'location_code', 'marital_status', 'monthly_premium_auto',\n",
       "       'months_since_last_claim', 'months_since_policy_inception',\n",
       "       'number_of_open_complaints', 'number_of_policies', 'policy_type',\n",
       "       'policy', 'renew_offer_type', 'sales_channel', 'total_claim_amount',\n",
       "       'vehicle_class', 'vehicle_size'],\n",
       "      dtype='object')"
      ]
     },
     "execution_count": 5,
     "metadata": {},
     "output_type": "execute_result"
    }
   ],
   "source": [
    "customer_df.columns=[e.lower().replace(' ', '_') for e in customer_df.columns]  \n",
    "customer_df.columns\n"
   ]
  },
  {
   "cell_type": "markdown",
   "metadata": {},
   "source": [
    "### Change effective to date column to datetime format.\n"
   ]
  },
  {
   "cell_type": "code",
   "execution_count": 6,
   "metadata": {},
   "outputs": [],
   "source": [
    "customer_df['effective_to_date'] = pd.to_datetime(customer_df.effective_to_date)\n"
   ]
  },
  {
   "cell_type": "code",
   "execution_count": 7,
   "metadata": {},
   "outputs": [
    {
     "data": {
      "text/plain": [
       "0      2011-02-24\n",
       "1      2011-01-31\n",
       "2      2011-02-19\n",
       "3      2011-01-20\n",
       "4      2011-02-03\n",
       "          ...    \n",
       "9129   2011-02-10\n",
       "9130   2011-02-12\n",
       "9131   2011-02-06\n",
       "9132   2011-02-03\n",
       "9133   2011-02-14\n",
       "Name: effective_to_date, Length: 9134, dtype: datetime64[ns]"
      ]
     },
     "execution_count": 7,
     "metadata": {},
     "output_type": "execute_result"
    }
   ],
   "source": [
    "customer_df['effective_to_date']"
   ]
  },
  {
   "cell_type": "markdown",
   "metadata": {},
   "source": [
    "### Check NaN values per column.\n"
   ]
  },
  {
   "cell_type": "code",
   "execution_count": 8,
   "metadata": {},
   "outputs": [],
   "source": [
    "nulls = pd.DataFrame(customer_df.isna().sum()/len(customer_df))\n",
    "nulls= nulls.reset_index()"
   ]
  },
  {
   "cell_type": "code",
   "execution_count": 9,
   "metadata": {},
   "outputs": [
    {
     "data": {
      "text/html": [
       "<div>\n",
       "<style scoped>\n",
       "    .dataframe tbody tr th:only-of-type {\n",
       "        vertical-align: middle;\n",
       "    }\n",
       "\n",
       "    .dataframe tbody tr th {\n",
       "        vertical-align: top;\n",
       "    }\n",
       "\n",
       "    .dataframe thead th {\n",
       "        text-align: right;\n",
       "    }\n",
       "</style>\n",
       "<table border=\"1\" class=\"dataframe\">\n",
       "  <thead>\n",
       "    <tr style=\"text-align: right;\">\n",
       "      <th></th>\n",
       "      <th>column_name</th>\n",
       "      <th>Percentage Null Values</th>\n",
       "    </tr>\n",
       "  </thead>\n",
       "  <tbody>\n",
       "    <tr>\n",
       "      <th>0</th>\n",
       "      <td>customer</td>\n",
       "      <td>0.0</td>\n",
       "    </tr>\n",
       "    <tr>\n",
       "      <th>1</th>\n",
       "      <td>state</td>\n",
       "      <td>0.0</td>\n",
       "    </tr>\n",
       "    <tr>\n",
       "      <th>22</th>\n",
       "      <td>vehicle_class</td>\n",
       "      <td>0.0</td>\n",
       "    </tr>\n",
       "    <tr>\n",
       "      <th>21</th>\n",
       "      <td>total_claim_amount</td>\n",
       "      <td>0.0</td>\n",
       "    </tr>\n",
       "    <tr>\n",
       "      <th>20</th>\n",
       "      <td>sales_channel</td>\n",
       "      <td>0.0</td>\n",
       "    </tr>\n",
       "    <tr>\n",
       "      <th>19</th>\n",
       "      <td>renew_offer_type</td>\n",
       "      <td>0.0</td>\n",
       "    </tr>\n",
       "    <tr>\n",
       "      <th>18</th>\n",
       "      <td>policy</td>\n",
       "      <td>0.0</td>\n",
       "    </tr>\n",
       "    <tr>\n",
       "      <th>17</th>\n",
       "      <td>policy_type</td>\n",
       "      <td>0.0</td>\n",
       "    </tr>\n",
       "    <tr>\n",
       "      <th>16</th>\n",
       "      <td>number_of_policies</td>\n",
       "      <td>0.0</td>\n",
       "    </tr>\n",
       "    <tr>\n",
       "      <th>15</th>\n",
       "      <td>number_of_open_complaints</td>\n",
       "      <td>0.0</td>\n",
       "    </tr>\n",
       "    <tr>\n",
       "      <th>14</th>\n",
       "      <td>months_since_policy_inception</td>\n",
       "      <td>0.0</td>\n",
       "    </tr>\n",
       "    <tr>\n",
       "      <th>13</th>\n",
       "      <td>months_since_last_claim</td>\n",
       "      <td>0.0</td>\n",
       "    </tr>\n",
       "    <tr>\n",
       "      <th>12</th>\n",
       "      <td>monthly_premium_auto</td>\n",
       "      <td>0.0</td>\n",
       "    </tr>\n",
       "    <tr>\n",
       "      <th>11</th>\n",
       "      <td>marital_status</td>\n",
       "      <td>0.0</td>\n",
       "    </tr>\n",
       "    <tr>\n",
       "      <th>10</th>\n",
       "      <td>location_code</td>\n",
       "      <td>0.0</td>\n",
       "    </tr>\n",
       "    <tr>\n",
       "      <th>9</th>\n",
       "      <td>income</td>\n",
       "      <td>0.0</td>\n",
       "    </tr>\n",
       "    <tr>\n",
       "      <th>8</th>\n",
       "      <td>gender</td>\n",
       "      <td>0.0</td>\n",
       "    </tr>\n",
       "    <tr>\n",
       "      <th>7</th>\n",
       "      <td>employmentstatus</td>\n",
       "      <td>0.0</td>\n",
       "    </tr>\n",
       "    <tr>\n",
       "      <th>6</th>\n",
       "      <td>effective_to_date</td>\n",
       "      <td>0.0</td>\n",
       "    </tr>\n",
       "    <tr>\n",
       "      <th>5</th>\n",
       "      <td>education</td>\n",
       "      <td>0.0</td>\n",
       "    </tr>\n",
       "    <tr>\n",
       "      <th>4</th>\n",
       "      <td>coverage</td>\n",
       "      <td>0.0</td>\n",
       "    </tr>\n",
       "    <tr>\n",
       "      <th>3</th>\n",
       "      <td>response</td>\n",
       "      <td>0.0</td>\n",
       "    </tr>\n",
       "    <tr>\n",
       "      <th>2</th>\n",
       "      <td>customer_lifetime_value</td>\n",
       "      <td>0.0</td>\n",
       "    </tr>\n",
       "    <tr>\n",
       "      <th>23</th>\n",
       "      <td>vehicle_size</td>\n",
       "      <td>0.0</td>\n",
       "    </tr>\n",
       "  </tbody>\n",
       "</table>\n",
       "</div>"
      ],
      "text/plain": [
       "                      column_name  Percentage Null Values\n",
       "0                        customer                     0.0\n",
       "1                           state                     0.0\n",
       "22                  vehicle_class                     0.0\n",
       "21             total_claim_amount                     0.0\n",
       "20                  sales_channel                     0.0\n",
       "19               renew_offer_type                     0.0\n",
       "18                         policy                     0.0\n",
       "17                    policy_type                     0.0\n",
       "16             number_of_policies                     0.0\n",
       "15      number_of_open_complaints                     0.0\n",
       "14  months_since_policy_inception                     0.0\n",
       "13        months_since_last_claim                     0.0\n",
       "12           monthly_premium_auto                     0.0\n",
       "11                 marital_status                     0.0\n",
       "10                  location_code                     0.0\n",
       "9                          income                     0.0\n",
       "8                          gender                     0.0\n",
       "7                employmentstatus                     0.0\n",
       "6               effective_to_date                     0.0\n",
       "5                       education                     0.0\n",
       "4                        coverage                     0.0\n",
       "3                        response                     0.0\n",
       "2         customer_lifetime_value                     0.0\n",
       "23                   vehicle_size                     0.0"
      ]
     },
     "execution_count": 9,
     "metadata": {},
     "output_type": "execute_result"
    }
   ],
   "source": [
    "nulls.columns = ['column_name', 'Percentage Null Values']\n",
    "nulls.sort_values(by='Percentage Null Values', ascending = False)"
   ]
  },
  {
   "cell_type": "markdown",
   "metadata": {},
   "source": [
    "###  Nan values do not look like an issue but during our exploration we noticed that there are columns with very high number of 0"
   ]
  },
  {
   "cell_type": "code",
   "execution_count": 10,
   "metadata": {},
   "outputs": [
    {
     "data": {
      "text/plain": [
       "0    7252\n",
       "1    1011\n",
       "2     374\n",
       "3     292\n",
       "4     149\n",
       "5      56\n",
       "Name: number_of_open_complaints, dtype: int64"
      ]
     },
     "execution_count": 10,
     "metadata": {},
     "output_type": "execute_result"
    }
   ],
   "source": [
    "customer_df['number_of_open_complaints'].value_counts()"
   ]
  },
  {
   "cell_type": "code",
   "execution_count": 11,
   "metadata": {},
   "outputs": [
    {
     "data": {
      "text/plain": [
       "0        2317\n",
       "95697      12\n",
       "40864       7\n",
       "24910       7\n",
       "25965       7\n",
       "         ... \n",
       "26952       1\n",
       "84300       1\n",
       "22862       1\n",
       "20815       1\n",
       "57240       1\n",
       "Name: income, Length: 5694, dtype: int64"
      ]
     },
     "execution_count": 11,
     "metadata": {},
     "output_type": "execute_result"
    }
   ],
   "source": [
    "customer_df['income'].value_counts()"
   ]
  },
  {
   "cell_type": "markdown",
   "metadata": {},
   "source": [
    "### Define a function that differentiates between continuous and discrete variables. Hint: A number of unique values might be useful. Store continuous data into a continuous variable and do the same for discrete and categorical. \n",
    "\n",
    "### For the categorical data, check if there is some kind of text in a variable so we would need to clean it. Hint: Use the same method you used in step 7. Depending on the implementation, decide what to do with the variables you get.\n",
    "\n",
    "Get categorical features.\n",
    "\n",
    "What should we do with the customer_id column?  Index it\n",
    "\n",
    "we did both while exploring cat and num "
   ]
  },
  {
   "cell_type": "code",
   "execution_count": 12,
   "metadata": {},
   "outputs": [
    {
     "name": "stdout",
     "output_type": "stream",
     "text": [
      "customer 9134\n",
      "state 5\n",
      "customer_lifetime_value 8041\n",
      "response 2\n",
      "coverage 3\n",
      "education 5\n",
      "effective_to_date 59\n",
      "employmentstatus 5\n",
      "gender 2\n",
      "income 5694\n",
      "location_code 3\n",
      "marital_status 3\n",
      "monthly_premium_auto 202\n",
      "months_since_last_claim 36\n",
      "months_since_policy_inception 100\n",
      "number_of_open_complaints 6\n",
      "number_of_policies 9\n",
      "policy_type 3\n",
      "policy 9\n",
      "renew_offer_type 4\n",
      "sales_channel 4\n",
      "total_claim_amount 5106\n",
      "vehicle_class 6\n",
      "vehicle_size 3\n"
     ]
    }
   ],
   "source": [
    "for i in customer_df.columns:\n",
    "    print(str(i) + ' ' + str(len(customer_df[i].unique())))\n",
    "# this returned all unique values per each columns to have an idea about what to clean up, we noticed that the column\n",
    "# monthly_premium_auto 202 has only 202 marking a big discrepancy in data distributions from other 3 columns all above 5000\n",
    "# total_claim_amount, customer_lifetime_value and income. We do not consider customer as is only unique values \n"
   ]
  },
  {
   "cell_type": "code",
   "execution_count": 13,
   "metadata": {},
   "outputs": [],
   "source": [
    "cat = customer_df.select_dtypes('object')\n",
    "num = customer_df.select_dtypes(np.number)"
   ]
  },
  {
   "cell_type": "code",
   "execution_count": 14,
   "metadata": {},
   "outputs": [
    {
     "name": "stdout",
     "output_type": "stream",
     "text": [
      "customer 9134\n",
      "state 5\n",
      "response 2\n",
      "coverage 3\n",
      "education 5\n",
      "employmentstatus 5\n",
      "gender 2\n",
      "location_code 3\n",
      "marital_status 3\n",
      "policy_type 3\n",
      "policy 9\n",
      "renew_offer_type 4\n",
      "sales_channel 4\n",
      "vehicle_class 6\n",
      "vehicle_size 3\n"
     ]
    }
   ],
   "source": [
    "#returns all unique values in cat columns \n",
    "for i in cat:\n",
    "    print(str(i) + ' ' + str(len(customer_df[i].unique())))"
   ]
  },
  {
   "cell_type": "code",
   "execution_count": 15,
   "metadata": {},
   "outputs": [
    {
     "name": "stdout",
     "output_type": "stream",
     "text": [
      "customer_lifetime_value 8041\n",
      "income 5694\n",
      "monthly_premium_auto 202\n",
      "months_since_last_claim 36\n",
      "months_since_policy_inception 100\n",
      "number_of_open_complaints 6\n",
      "number_of_policies 9\n",
      "total_claim_amount 5106\n"
     ]
    }
   ],
   "source": [
    "#returns all unique values in num columns \n",
    "for i in num:\n",
    "    print(str(i) + ' ' + str(len(customer_df[i].unique())))"
   ]
  },
  {
   "cell_type": "code",
   "execution_count": 16,
   "metadata": {},
   "outputs": [],
   "source": [
    "def catchange (customer_df):\n",
    "    for catname in customer_df.columns:\n",
    "        customer_df[catname]=[e.lower().replace(' ', '_') for e in customer_df[catname]]\n",
    "    return customer_df\n",
    "#replacing names "
   ]
  },
  {
   "cell_type": "code",
   "execution_count": 17,
   "metadata": {},
   "outputs": [],
   "source": [
    "cat=catchange(cat)\n"
   ]
  },
  {
   "cell_type": "code",
   "execution_count": 18,
   "metadata": {},
   "outputs": [
    {
     "data": {
      "text/html": [
       "<div>\n",
       "<style scoped>\n",
       "    .dataframe tbody tr th:only-of-type {\n",
       "        vertical-align: middle;\n",
       "    }\n",
       "\n",
       "    .dataframe tbody tr th {\n",
       "        vertical-align: top;\n",
       "    }\n",
       "\n",
       "    .dataframe thead th {\n",
       "        text-align: right;\n",
       "    }\n",
       "</style>\n",
       "<table border=\"1\" class=\"dataframe\">\n",
       "  <thead>\n",
       "    <tr style=\"text-align: right;\">\n",
       "      <th></th>\n",
       "      <th>customer</th>\n",
       "      <th>state</th>\n",
       "      <th>response</th>\n",
       "      <th>coverage</th>\n",
       "      <th>education</th>\n",
       "      <th>employmentstatus</th>\n",
       "      <th>gender</th>\n",
       "      <th>location_code</th>\n",
       "      <th>marital_status</th>\n",
       "      <th>policy_type</th>\n",
       "      <th>policy</th>\n",
       "      <th>renew_offer_type</th>\n",
       "      <th>sales_channel</th>\n",
       "      <th>vehicle_class</th>\n",
       "      <th>vehicle_size</th>\n",
       "    </tr>\n",
       "  </thead>\n",
       "  <tbody>\n",
       "    <tr>\n",
       "      <th>0</th>\n",
       "      <td>bu79786</td>\n",
       "      <td>washington</td>\n",
       "      <td>no</td>\n",
       "      <td>basic</td>\n",
       "      <td>bachelor</td>\n",
       "      <td>employed</td>\n",
       "      <td>f</td>\n",
       "      <td>suburban</td>\n",
       "      <td>married</td>\n",
       "      <td>corporate_auto</td>\n",
       "      <td>corporate_l3</td>\n",
       "      <td>offer1</td>\n",
       "      <td>agent</td>\n",
       "      <td>two-door_car</td>\n",
       "      <td>medsize</td>\n",
       "    </tr>\n",
       "    <tr>\n",
       "      <th>1</th>\n",
       "      <td>qz44356</td>\n",
       "      <td>arizona</td>\n",
       "      <td>no</td>\n",
       "      <td>extended</td>\n",
       "      <td>bachelor</td>\n",
       "      <td>unemployed</td>\n",
       "      <td>f</td>\n",
       "      <td>suburban</td>\n",
       "      <td>single</td>\n",
       "      <td>personal_auto</td>\n",
       "      <td>personal_l3</td>\n",
       "      <td>offer3</td>\n",
       "      <td>agent</td>\n",
       "      <td>four-door_car</td>\n",
       "      <td>medsize</td>\n",
       "    </tr>\n",
       "    <tr>\n",
       "      <th>2</th>\n",
       "      <td>ai49188</td>\n",
       "      <td>nevada</td>\n",
       "      <td>no</td>\n",
       "      <td>premium</td>\n",
       "      <td>bachelor</td>\n",
       "      <td>employed</td>\n",
       "      <td>f</td>\n",
       "      <td>suburban</td>\n",
       "      <td>married</td>\n",
       "      <td>personal_auto</td>\n",
       "      <td>personal_l3</td>\n",
       "      <td>offer1</td>\n",
       "      <td>agent</td>\n",
       "      <td>two-door_car</td>\n",
       "      <td>medsize</td>\n",
       "    </tr>\n",
       "    <tr>\n",
       "      <th>3</th>\n",
       "      <td>ww63253</td>\n",
       "      <td>california</td>\n",
       "      <td>no</td>\n",
       "      <td>basic</td>\n",
       "      <td>bachelor</td>\n",
       "      <td>unemployed</td>\n",
       "      <td>m</td>\n",
       "      <td>suburban</td>\n",
       "      <td>married</td>\n",
       "      <td>corporate_auto</td>\n",
       "      <td>corporate_l2</td>\n",
       "      <td>offer1</td>\n",
       "      <td>call_center</td>\n",
       "      <td>suv</td>\n",
       "      <td>medsize</td>\n",
       "    </tr>\n",
       "    <tr>\n",
       "      <th>4</th>\n",
       "      <td>hb64268</td>\n",
       "      <td>washington</td>\n",
       "      <td>no</td>\n",
       "      <td>basic</td>\n",
       "      <td>bachelor</td>\n",
       "      <td>employed</td>\n",
       "      <td>m</td>\n",
       "      <td>rural</td>\n",
       "      <td>single</td>\n",
       "      <td>personal_auto</td>\n",
       "      <td>personal_l1</td>\n",
       "      <td>offer1</td>\n",
       "      <td>agent</td>\n",
       "      <td>four-door_car</td>\n",
       "      <td>medsize</td>\n",
       "    </tr>\n",
       "  </tbody>\n",
       "</table>\n",
       "</div>"
      ],
      "text/plain": [
       "  customer       state response  coverage education employmentstatus gender  \\\n",
       "0  bu79786  washington       no     basic  bachelor         employed      f   \n",
       "1  qz44356     arizona       no  extended  bachelor       unemployed      f   \n",
       "2  ai49188      nevada       no   premium  bachelor         employed      f   \n",
       "3  ww63253  california       no     basic  bachelor       unemployed      m   \n",
       "4  hb64268  washington       no     basic  bachelor         employed      m   \n",
       "\n",
       "  location_code marital_status     policy_type        policy renew_offer_type  \\\n",
       "0      suburban        married  corporate_auto  corporate_l3           offer1   \n",
       "1      suburban         single   personal_auto   personal_l3           offer3   \n",
       "2      suburban        married   personal_auto   personal_l3           offer1   \n",
       "3      suburban        married  corporate_auto  corporate_l2           offer1   \n",
       "4         rural         single   personal_auto   personal_l1           offer1   \n",
       "\n",
       "  sales_channel  vehicle_class vehicle_size  \n",
       "0         agent   two-door_car      medsize  \n",
       "1         agent  four-door_car      medsize  \n",
       "2         agent   two-door_car      medsize  \n",
       "3   call_center            suv      medsize  \n",
       "4         agent  four-door_car      medsize  "
      ]
     },
     "execution_count": 18,
     "metadata": {},
     "output_type": "execute_result"
    }
   ],
   "source": [
    "cat.head()\n"
   ]
  },
  {
   "cell_type": "code",
   "execution_count": 19,
   "metadata": {},
   "outputs": [],
   "source": [
    "numbernames=num.columns\n"
   ]
  },
  {
   "cell_type": "code",
   "execution_count": 20,
   "metadata": {},
   "outputs": [
    {
     "name": "stdout",
     "output_type": "stream",
     "text": [
      "continuous\n",
      "continuous\n",
      "discrete\n",
      "discrete\n",
      "discrete\n",
      "discrete\n",
      "discrete\n",
      "continuous\n"
     ]
    }
   ],
   "source": [
    "continuous=[]\n",
    "discrete= []\n",
    "for i in numbernames:\n",
    "\n",
    "    if len(customer_df[i].unique()) > 202:\n",
    "        print(\"continuous\")\n",
    "        continuous.append(i)\n",
    "        \n",
    "        \n",
    "    else:\n",
    "        print(\"discrete\")\n",
    "        discrete.append(i)"
   ]
  },
  {
   "cell_type": "code",
   "execution_count": 21,
   "metadata": {},
   "outputs": [],
   "source": [
    "DiscreteValues=customer_df[discrete]"
   ]
  },
  {
   "cell_type": "code",
   "execution_count": 22,
   "metadata": {},
   "outputs": [],
   "source": [
    "ContinuousValues=customer_df[continuous]"
   ]
  },
  {
   "cell_type": "code",
   "execution_count": 23,
   "metadata": {},
   "outputs": [],
   "source": [
    "def con_dis_classifier (df):\n",
    "    continuous  = []\n",
    "    discrete    = []\n",
    "    cat = []\n",
    "    for col in df.columns:\n",
    "        if(customer_df[col].dtypes == object): #OBJECTS\n",
    "            cat.append(str(col))\n",
    "        else:\n",
    "            if(customer_df[col].dtypes == np.number): #NUMBERS\n",
    "                if (len(customer_df[col].unique())) > 202:\n",
    "                    continuous.append(str(col))\n",
    "                else:\n",
    "                    discrete.append(str(col))\n",
    "            else:\n",
    "                cat.append(str(col))\n",
    "            \n",
    "    return continuous,discrete, cat\n",
    "    "
   ]
  },
  {
   "cell_type": "code",
   "execution_count": 24,
   "metadata": {},
   "outputs": [
    {
     "data": {
      "text/plain": [
       "['monthly_premium_auto',\n",
       " 'months_since_last_claim',\n",
       " 'months_since_policy_inception',\n",
       " 'number_of_open_complaints',\n",
       " 'number_of_policies']"
      ]
     },
     "execution_count": 24,
     "metadata": {},
     "output_type": "execute_result"
    }
   ],
   "source": [
    "discrete"
   ]
  },
  {
   "cell_type": "code",
   "execution_count": 25,
   "metadata": {},
   "outputs": [
    {
     "data": {
      "text/plain": [
       "['customer_lifetime_value', 'income', 'total_claim_amount']"
      ]
     },
     "execution_count": 25,
     "metadata": {},
     "output_type": "execute_result"
    }
   ],
   "source": [
    "continuous"
   ]
  },
  {
   "cell_type": "code",
   "execution_count": 26,
   "metadata": {},
   "outputs": [],
   "source": [
    "customer_df = customer_df.set_index(\"customer\")\n",
    "# indexing the customer column"
   ]
  },
  {
   "cell_type": "code",
   "execution_count": 27,
   "metadata": {},
   "outputs": [
    {
     "data": {
      "text/html": [
       "<div>\n",
       "<style scoped>\n",
       "    .dataframe tbody tr th:only-of-type {\n",
       "        vertical-align: middle;\n",
       "    }\n",
       "\n",
       "    .dataframe tbody tr th {\n",
       "        vertical-align: top;\n",
       "    }\n",
       "\n",
       "    .dataframe thead th {\n",
       "        text-align: right;\n",
       "    }\n",
       "</style>\n",
       "<table border=\"1\" class=\"dataframe\">\n",
       "  <thead>\n",
       "    <tr style=\"text-align: right;\">\n",
       "      <th></th>\n",
       "      <th>state</th>\n",
       "      <th>customer_lifetime_value</th>\n",
       "      <th>response</th>\n",
       "      <th>coverage</th>\n",
       "      <th>education</th>\n",
       "      <th>effective_to_date</th>\n",
       "      <th>employmentstatus</th>\n",
       "      <th>gender</th>\n",
       "      <th>income</th>\n",
       "      <th>location_code</th>\n",
       "      <th>marital_status</th>\n",
       "      <th>monthly_premium_auto</th>\n",
       "      <th>months_since_last_claim</th>\n",
       "      <th>months_since_policy_inception</th>\n",
       "      <th>number_of_open_complaints</th>\n",
       "      <th>number_of_policies</th>\n",
       "      <th>policy_type</th>\n",
       "      <th>policy</th>\n",
       "      <th>renew_offer_type</th>\n",
       "      <th>sales_channel</th>\n",
       "      <th>total_claim_amount</th>\n",
       "      <th>vehicle_class</th>\n",
       "      <th>vehicle_size</th>\n",
       "    </tr>\n",
       "    <tr>\n",
       "      <th>customer</th>\n",
       "      <th></th>\n",
       "      <th></th>\n",
       "      <th></th>\n",
       "      <th></th>\n",
       "      <th></th>\n",
       "      <th></th>\n",
       "      <th></th>\n",
       "      <th></th>\n",
       "      <th></th>\n",
       "      <th></th>\n",
       "      <th></th>\n",
       "      <th></th>\n",
       "      <th></th>\n",
       "      <th></th>\n",
       "      <th></th>\n",
       "      <th></th>\n",
       "      <th></th>\n",
       "      <th></th>\n",
       "      <th></th>\n",
       "      <th></th>\n",
       "      <th></th>\n",
       "      <th></th>\n",
       "      <th></th>\n",
       "    </tr>\n",
       "  </thead>\n",
       "  <tbody>\n",
       "    <tr>\n",
       "      <th>BU79786</th>\n",
       "      <td>Washington</td>\n",
       "      <td>2763.519279</td>\n",
       "      <td>No</td>\n",
       "      <td>Basic</td>\n",
       "      <td>Bachelor</td>\n",
       "      <td>2011-02-24</td>\n",
       "      <td>Employed</td>\n",
       "      <td>F</td>\n",
       "      <td>56274</td>\n",
       "      <td>Suburban</td>\n",
       "      <td>Married</td>\n",
       "      <td>69</td>\n",
       "      <td>32</td>\n",
       "      <td>5</td>\n",
       "      <td>0</td>\n",
       "      <td>1</td>\n",
       "      <td>Corporate Auto</td>\n",
       "      <td>Corporate L3</td>\n",
       "      <td>Offer1</td>\n",
       "      <td>Agent</td>\n",
       "      <td>384.811147</td>\n",
       "      <td>Two-Door Car</td>\n",
       "      <td>Medsize</td>\n",
       "    </tr>\n",
       "    <tr>\n",
       "      <th>QZ44356</th>\n",
       "      <td>Arizona</td>\n",
       "      <td>6979.535903</td>\n",
       "      <td>No</td>\n",
       "      <td>Extended</td>\n",
       "      <td>Bachelor</td>\n",
       "      <td>2011-01-31</td>\n",
       "      <td>Unemployed</td>\n",
       "      <td>F</td>\n",
       "      <td>0</td>\n",
       "      <td>Suburban</td>\n",
       "      <td>Single</td>\n",
       "      <td>94</td>\n",
       "      <td>13</td>\n",
       "      <td>42</td>\n",
       "      <td>0</td>\n",
       "      <td>8</td>\n",
       "      <td>Personal Auto</td>\n",
       "      <td>Personal L3</td>\n",
       "      <td>Offer3</td>\n",
       "      <td>Agent</td>\n",
       "      <td>1131.464935</td>\n",
       "      <td>Four-Door Car</td>\n",
       "      <td>Medsize</td>\n",
       "    </tr>\n",
       "    <tr>\n",
       "      <th>AI49188</th>\n",
       "      <td>Nevada</td>\n",
       "      <td>12887.431650</td>\n",
       "      <td>No</td>\n",
       "      <td>Premium</td>\n",
       "      <td>Bachelor</td>\n",
       "      <td>2011-02-19</td>\n",
       "      <td>Employed</td>\n",
       "      <td>F</td>\n",
       "      <td>48767</td>\n",
       "      <td>Suburban</td>\n",
       "      <td>Married</td>\n",
       "      <td>108</td>\n",
       "      <td>18</td>\n",
       "      <td>38</td>\n",
       "      <td>0</td>\n",
       "      <td>2</td>\n",
       "      <td>Personal Auto</td>\n",
       "      <td>Personal L3</td>\n",
       "      <td>Offer1</td>\n",
       "      <td>Agent</td>\n",
       "      <td>566.472247</td>\n",
       "      <td>Two-Door Car</td>\n",
       "      <td>Medsize</td>\n",
       "    </tr>\n",
       "    <tr>\n",
       "      <th>WW63253</th>\n",
       "      <td>California</td>\n",
       "      <td>7645.861827</td>\n",
       "      <td>No</td>\n",
       "      <td>Basic</td>\n",
       "      <td>Bachelor</td>\n",
       "      <td>2011-01-20</td>\n",
       "      <td>Unemployed</td>\n",
       "      <td>M</td>\n",
       "      <td>0</td>\n",
       "      <td>Suburban</td>\n",
       "      <td>Married</td>\n",
       "      <td>106</td>\n",
       "      <td>18</td>\n",
       "      <td>65</td>\n",
       "      <td>0</td>\n",
       "      <td>7</td>\n",
       "      <td>Corporate Auto</td>\n",
       "      <td>Corporate L2</td>\n",
       "      <td>Offer1</td>\n",
       "      <td>Call Center</td>\n",
       "      <td>529.881344</td>\n",
       "      <td>SUV</td>\n",
       "      <td>Medsize</td>\n",
       "    </tr>\n",
       "    <tr>\n",
       "      <th>HB64268</th>\n",
       "      <td>Washington</td>\n",
       "      <td>2813.692575</td>\n",
       "      <td>No</td>\n",
       "      <td>Basic</td>\n",
       "      <td>Bachelor</td>\n",
       "      <td>2011-02-03</td>\n",
       "      <td>Employed</td>\n",
       "      <td>M</td>\n",
       "      <td>43836</td>\n",
       "      <td>Rural</td>\n",
       "      <td>Single</td>\n",
       "      <td>73</td>\n",
       "      <td>12</td>\n",
       "      <td>44</td>\n",
       "      <td>0</td>\n",
       "      <td>1</td>\n",
       "      <td>Personal Auto</td>\n",
       "      <td>Personal L1</td>\n",
       "      <td>Offer1</td>\n",
       "      <td>Agent</td>\n",
       "      <td>138.130879</td>\n",
       "      <td>Four-Door Car</td>\n",
       "      <td>Medsize</td>\n",
       "    </tr>\n",
       "  </tbody>\n",
       "</table>\n",
       "</div>"
      ],
      "text/plain": [
       "               state  customer_lifetime_value response  coverage education  \\\n",
       "customer                                                                     \n",
       "BU79786   Washington              2763.519279       No     Basic  Bachelor   \n",
       "QZ44356      Arizona              6979.535903       No  Extended  Bachelor   \n",
       "AI49188       Nevada             12887.431650       No   Premium  Bachelor   \n",
       "WW63253   California              7645.861827       No     Basic  Bachelor   \n",
       "HB64268   Washington              2813.692575       No     Basic  Bachelor   \n",
       "\n",
       "         effective_to_date employmentstatus gender  income location_code  \\\n",
       "customer                                                                   \n",
       "BU79786         2011-02-24         Employed      F   56274      Suburban   \n",
       "QZ44356         2011-01-31       Unemployed      F       0      Suburban   \n",
       "AI49188         2011-02-19         Employed      F   48767      Suburban   \n",
       "WW63253         2011-01-20       Unemployed      M       0      Suburban   \n",
       "HB64268         2011-02-03         Employed      M   43836         Rural   \n",
       "\n",
       "         marital_status  monthly_premium_auto  months_since_last_claim  \\\n",
       "customer                                                                 \n",
       "BU79786         Married                    69                       32   \n",
       "QZ44356          Single                    94                       13   \n",
       "AI49188         Married                   108                       18   \n",
       "WW63253         Married                   106                       18   \n",
       "HB64268          Single                    73                       12   \n",
       "\n",
       "          months_since_policy_inception  number_of_open_complaints  \\\n",
       "customer                                                             \n",
       "BU79786                               5                          0   \n",
       "QZ44356                              42                          0   \n",
       "AI49188                              38                          0   \n",
       "WW63253                              65                          0   \n",
       "HB64268                              44                          0   \n",
       "\n",
       "          number_of_policies     policy_type        policy renew_offer_type  \\\n",
       "customer                                                                      \n",
       "BU79786                    1  Corporate Auto  Corporate L3           Offer1   \n",
       "QZ44356                    8   Personal Auto   Personal L3           Offer3   \n",
       "AI49188                    2   Personal Auto   Personal L3           Offer1   \n",
       "WW63253                    7  Corporate Auto  Corporate L2           Offer1   \n",
       "HB64268                    1   Personal Auto   Personal L1           Offer1   \n",
       "\n",
       "         sales_channel  total_claim_amount  vehicle_class vehicle_size  \n",
       "customer                                                                \n",
       "BU79786          Agent          384.811147   Two-Door Car      Medsize  \n",
       "QZ44356          Agent         1131.464935  Four-Door Car      Medsize  \n",
       "AI49188          Agent          566.472247   Two-Door Car      Medsize  \n",
       "WW63253    Call Center          529.881344            SUV      Medsize  \n",
       "HB64268          Agent          138.130879  Four-Door Car      Medsize  "
      ]
     },
     "execution_count": 27,
     "metadata": {},
     "output_type": "execute_result"
    }
   ],
   "source": [
    "customer_df.head()"
   ]
  },
  {
   "cell_type": "code",
   "execution_count": 28,
   "metadata": {},
   "outputs": [
    {
     "data": {
      "text/html": [
       "<div>\n",
       "<style scoped>\n",
       "    .dataframe tbody tr th:only-of-type {\n",
       "        vertical-align: middle;\n",
       "    }\n",
       "\n",
       "    .dataframe tbody tr th {\n",
       "        vertical-align: top;\n",
       "    }\n",
       "\n",
       "    .dataframe thead th {\n",
       "        text-align: right;\n",
       "    }\n",
       "</style>\n",
       "<table border=\"1\" class=\"dataframe\">\n",
       "  <thead>\n",
       "    <tr style=\"text-align: right;\">\n",
       "      <th></th>\n",
       "      <th>customer</th>\n",
       "      <th>state</th>\n",
       "      <th>response</th>\n",
       "      <th>coverage</th>\n",
       "      <th>education</th>\n",
       "      <th>employmentstatus</th>\n",
       "      <th>gender</th>\n",
       "      <th>location_code</th>\n",
       "      <th>marital_status</th>\n",
       "      <th>policy_type</th>\n",
       "      <th>policy</th>\n",
       "      <th>renew_offer_type</th>\n",
       "      <th>sales_channel</th>\n",
       "      <th>vehicle_class</th>\n",
       "      <th>vehicle_size</th>\n",
       "    </tr>\n",
       "  </thead>\n",
       "  <tbody>\n",
       "    <tr>\n",
       "      <th>0</th>\n",
       "      <td>bu79786</td>\n",
       "      <td>washington</td>\n",
       "      <td>no</td>\n",
       "      <td>basic</td>\n",
       "      <td>bachelor</td>\n",
       "      <td>employed</td>\n",
       "      <td>f</td>\n",
       "      <td>suburban</td>\n",
       "      <td>married</td>\n",
       "      <td>corporate_auto</td>\n",
       "      <td>corporate_l3</td>\n",
       "      <td>offer1</td>\n",
       "      <td>agent</td>\n",
       "      <td>two-door_car</td>\n",
       "      <td>medsize</td>\n",
       "    </tr>\n",
       "    <tr>\n",
       "      <th>1</th>\n",
       "      <td>qz44356</td>\n",
       "      <td>arizona</td>\n",
       "      <td>no</td>\n",
       "      <td>extended</td>\n",
       "      <td>bachelor</td>\n",
       "      <td>unemployed</td>\n",
       "      <td>f</td>\n",
       "      <td>suburban</td>\n",
       "      <td>single</td>\n",
       "      <td>personal_auto</td>\n",
       "      <td>personal_l3</td>\n",
       "      <td>offer3</td>\n",
       "      <td>agent</td>\n",
       "      <td>four-door_car</td>\n",
       "      <td>medsize</td>\n",
       "    </tr>\n",
       "    <tr>\n",
       "      <th>2</th>\n",
       "      <td>ai49188</td>\n",
       "      <td>nevada</td>\n",
       "      <td>no</td>\n",
       "      <td>premium</td>\n",
       "      <td>bachelor</td>\n",
       "      <td>employed</td>\n",
       "      <td>f</td>\n",
       "      <td>suburban</td>\n",
       "      <td>married</td>\n",
       "      <td>personal_auto</td>\n",
       "      <td>personal_l3</td>\n",
       "      <td>offer1</td>\n",
       "      <td>agent</td>\n",
       "      <td>two-door_car</td>\n",
       "      <td>medsize</td>\n",
       "    </tr>\n",
       "    <tr>\n",
       "      <th>3</th>\n",
       "      <td>ww63253</td>\n",
       "      <td>california</td>\n",
       "      <td>no</td>\n",
       "      <td>basic</td>\n",
       "      <td>bachelor</td>\n",
       "      <td>unemployed</td>\n",
       "      <td>m</td>\n",
       "      <td>suburban</td>\n",
       "      <td>married</td>\n",
       "      <td>corporate_auto</td>\n",
       "      <td>corporate_l2</td>\n",
       "      <td>offer1</td>\n",
       "      <td>call_center</td>\n",
       "      <td>suv</td>\n",
       "      <td>medsize</td>\n",
       "    </tr>\n",
       "    <tr>\n",
       "      <th>4</th>\n",
       "      <td>hb64268</td>\n",
       "      <td>washington</td>\n",
       "      <td>no</td>\n",
       "      <td>basic</td>\n",
       "      <td>bachelor</td>\n",
       "      <td>employed</td>\n",
       "      <td>m</td>\n",
       "      <td>rural</td>\n",
       "      <td>single</td>\n",
       "      <td>personal_auto</td>\n",
       "      <td>personal_l1</td>\n",
       "      <td>offer1</td>\n",
       "      <td>agent</td>\n",
       "      <td>four-door_car</td>\n",
       "      <td>medsize</td>\n",
       "    </tr>\n",
       "  </tbody>\n",
       "</table>\n",
       "</div>"
      ],
      "text/plain": [
       "  customer       state response  coverage education employmentstatus gender  \\\n",
       "0  bu79786  washington       no     basic  bachelor         employed      f   \n",
       "1  qz44356     arizona       no  extended  bachelor       unemployed      f   \n",
       "2  ai49188      nevada       no   premium  bachelor         employed      f   \n",
       "3  ww63253  california       no     basic  bachelor       unemployed      m   \n",
       "4  hb64268  washington       no     basic  bachelor         employed      m   \n",
       "\n",
       "  location_code marital_status     policy_type        policy renew_offer_type  \\\n",
       "0      suburban        married  corporate_auto  corporate_l3           offer1   \n",
       "1      suburban         single   personal_auto   personal_l3           offer3   \n",
       "2      suburban        married   personal_auto   personal_l3           offer1   \n",
       "3      suburban        married  corporate_auto  corporate_l2           offer1   \n",
       "4         rural         single   personal_auto   personal_l1           offer1   \n",
       "\n",
       "  sales_channel  vehicle_class vehicle_size  \n",
       "0         agent   two-door_car      medsize  \n",
       "1         agent  four-door_car      medsize  \n",
       "2         agent   two-door_car      medsize  \n",
       "3   call_center            suv      medsize  \n",
       "4         agent  four-door_car      medsize  "
      ]
     },
     "execution_count": 28,
     "metadata": {},
     "output_type": "execute_result"
    }
   ],
   "source": [
    "cat.head()"
   ]
  },
  {
   "cell_type": "code",
   "execution_count": 29,
   "metadata": {},
   "outputs": [],
   "source": [
    "cat = cat.set_index(\"customer\")"
   ]
  },
  {
   "cell_type": "code",
   "execution_count": 30,
   "metadata": {},
   "outputs": [
    {
     "data": {
      "text/html": [
       "<div>\n",
       "<style scoped>\n",
       "    .dataframe tbody tr th:only-of-type {\n",
       "        vertical-align: middle;\n",
       "    }\n",
       "\n",
       "    .dataframe tbody tr th {\n",
       "        vertical-align: top;\n",
       "    }\n",
       "\n",
       "    .dataframe thead th {\n",
       "        text-align: right;\n",
       "    }\n",
       "</style>\n",
       "<table border=\"1\" class=\"dataframe\">\n",
       "  <thead>\n",
       "    <tr style=\"text-align: right;\">\n",
       "      <th></th>\n",
       "      <th>state</th>\n",
       "      <th>response</th>\n",
       "      <th>coverage</th>\n",
       "      <th>education</th>\n",
       "      <th>employmentstatus</th>\n",
       "      <th>gender</th>\n",
       "      <th>location_code</th>\n",
       "      <th>marital_status</th>\n",
       "      <th>policy_type</th>\n",
       "      <th>policy</th>\n",
       "      <th>renew_offer_type</th>\n",
       "      <th>sales_channel</th>\n",
       "      <th>vehicle_class</th>\n",
       "      <th>vehicle_size</th>\n",
       "    </tr>\n",
       "    <tr>\n",
       "      <th>customer</th>\n",
       "      <th></th>\n",
       "      <th></th>\n",
       "      <th></th>\n",
       "      <th></th>\n",
       "      <th></th>\n",
       "      <th></th>\n",
       "      <th></th>\n",
       "      <th></th>\n",
       "      <th></th>\n",
       "      <th></th>\n",
       "      <th></th>\n",
       "      <th></th>\n",
       "      <th></th>\n",
       "      <th></th>\n",
       "    </tr>\n",
       "  </thead>\n",
       "  <tbody>\n",
       "    <tr>\n",
       "      <th>bu79786</th>\n",
       "      <td>washington</td>\n",
       "      <td>no</td>\n",
       "      <td>basic</td>\n",
       "      <td>bachelor</td>\n",
       "      <td>employed</td>\n",
       "      <td>f</td>\n",
       "      <td>suburban</td>\n",
       "      <td>married</td>\n",
       "      <td>corporate_auto</td>\n",
       "      <td>corporate_l3</td>\n",
       "      <td>offer1</td>\n",
       "      <td>agent</td>\n",
       "      <td>two-door_car</td>\n",
       "      <td>medsize</td>\n",
       "    </tr>\n",
       "    <tr>\n",
       "      <th>qz44356</th>\n",
       "      <td>arizona</td>\n",
       "      <td>no</td>\n",
       "      <td>extended</td>\n",
       "      <td>bachelor</td>\n",
       "      <td>unemployed</td>\n",
       "      <td>f</td>\n",
       "      <td>suburban</td>\n",
       "      <td>single</td>\n",
       "      <td>personal_auto</td>\n",
       "      <td>personal_l3</td>\n",
       "      <td>offer3</td>\n",
       "      <td>agent</td>\n",
       "      <td>four-door_car</td>\n",
       "      <td>medsize</td>\n",
       "    </tr>\n",
       "    <tr>\n",
       "      <th>ai49188</th>\n",
       "      <td>nevada</td>\n",
       "      <td>no</td>\n",
       "      <td>premium</td>\n",
       "      <td>bachelor</td>\n",
       "      <td>employed</td>\n",
       "      <td>f</td>\n",
       "      <td>suburban</td>\n",
       "      <td>married</td>\n",
       "      <td>personal_auto</td>\n",
       "      <td>personal_l3</td>\n",
       "      <td>offer1</td>\n",
       "      <td>agent</td>\n",
       "      <td>two-door_car</td>\n",
       "      <td>medsize</td>\n",
       "    </tr>\n",
       "    <tr>\n",
       "      <th>ww63253</th>\n",
       "      <td>california</td>\n",
       "      <td>no</td>\n",
       "      <td>basic</td>\n",
       "      <td>bachelor</td>\n",
       "      <td>unemployed</td>\n",
       "      <td>m</td>\n",
       "      <td>suburban</td>\n",
       "      <td>married</td>\n",
       "      <td>corporate_auto</td>\n",
       "      <td>corporate_l2</td>\n",
       "      <td>offer1</td>\n",
       "      <td>call_center</td>\n",
       "      <td>suv</td>\n",
       "      <td>medsize</td>\n",
       "    </tr>\n",
       "    <tr>\n",
       "      <th>hb64268</th>\n",
       "      <td>washington</td>\n",
       "      <td>no</td>\n",
       "      <td>basic</td>\n",
       "      <td>bachelor</td>\n",
       "      <td>employed</td>\n",
       "      <td>m</td>\n",
       "      <td>rural</td>\n",
       "      <td>single</td>\n",
       "      <td>personal_auto</td>\n",
       "      <td>personal_l1</td>\n",
       "      <td>offer1</td>\n",
       "      <td>agent</td>\n",
       "      <td>four-door_car</td>\n",
       "      <td>medsize</td>\n",
       "    </tr>\n",
       "  </tbody>\n",
       "</table>\n",
       "</div>"
      ],
      "text/plain": [
       "               state response  coverage education employmentstatus gender  \\\n",
       "customer                                                                    \n",
       "bu79786   washington       no     basic  bachelor         employed      f   \n",
       "qz44356      arizona       no  extended  bachelor       unemployed      f   \n",
       "ai49188       nevada       no   premium  bachelor         employed      f   \n",
       "ww63253   california       no     basic  bachelor       unemployed      m   \n",
       "hb64268   washington       no     basic  bachelor         employed      m   \n",
       "\n",
       "         location_code marital_status     policy_type        policy  \\\n",
       "customer                                                              \n",
       "bu79786       suburban        married  corporate_auto  corporate_l3   \n",
       "qz44356       suburban         single   personal_auto   personal_l3   \n",
       "ai49188       suburban        married   personal_auto   personal_l3   \n",
       "ww63253       suburban        married  corporate_auto  corporate_l2   \n",
       "hb64268          rural         single   personal_auto   personal_l1   \n",
       "\n",
       "         renew_offer_type sales_channel  vehicle_class vehicle_size  \n",
       "customer                                                             \n",
       "bu79786            offer1         agent   two-door_car      medsize  \n",
       "qz44356            offer3         agent  four-door_car      medsize  \n",
       "ai49188            offer1         agent   two-door_car      medsize  \n",
       "ww63253            offer1   call_center            suv      medsize  \n",
       "hb64268            offer1         agent  four-door_car      medsize  "
      ]
     },
     "execution_count": 30,
     "metadata": {},
     "output_type": "execute_result"
    }
   ],
   "source": [
    "cat.head()"
   ]
  },
  {
   "cell_type": "code",
   "execution_count": 31,
   "metadata": {},
   "outputs": [
    {
     "name": "stdout",
     "output_type": "stream",
     "text": [
      "<class 'pandas.core.frame.DataFrame'>\n",
      "RangeIndex: 9134 entries, 0 to 9133\n",
      "Data columns (total 8 columns):\n",
      " #   Column                         Non-Null Count  Dtype  \n",
      "---  ------                         --------------  -----  \n",
      " 0   customer_lifetime_value        9134 non-null   float64\n",
      " 1   income                         9134 non-null   int64  \n",
      " 2   monthly_premium_auto           9134 non-null   int64  \n",
      " 3   months_since_last_claim        9134 non-null   int64  \n",
      " 4   months_since_policy_inception  9134 non-null   int64  \n",
      " 5   number_of_open_complaints      9134 non-null   int64  \n",
      " 6   number_of_policies             9134 non-null   int64  \n",
      " 7   total_claim_amount             9134 non-null   float64\n",
      "dtypes: float64(2), int64(6)\n",
      "memory usage: 571.0 KB\n"
     ]
    }
   ],
   "source": [
    "num.info()"
   ]
  },
  {
   "cell_type": "code",
   "execution_count": 32,
   "metadata": {},
   "outputs": [
    {
     "data": {
      "text/plain": [
       "<seaborn.axisgrid.FacetGrid at 0x20b5e2dcaf0>"
      ]
     },
     "execution_count": 32,
     "metadata": {},
     "output_type": "execute_result"
    },
    {
     "data": {
      "image/png": "[encoded data removed]",
      "text/plain": [
       "<Figure size 550.25x360 with 1 Axes>"
      ]
     },
     "metadata": {
      "needs_background": "light"
     },
     "output_type": "display_data"
    }
   ],
   "source": [
    "sns.displot(num, bins=20)\n"
   ]
  },
  {
   "cell_type": "code",
   "execution_count": 33,
   "metadata": {
    "scrolled": false
   },
   "outputs": [],
   "source": [
    "#for x in num.columns:\n",
    "#    plt.hist(num[x], bins=10)\n",
    "#    plt.show()"
   ]
  },
  {
   "cell_type": "code",
   "execution_count": 34,
   "metadata": {},
   "outputs": [
    {
     "data": {
      "image/png": "[encoded data removed]",
      "text/plain": [
       "<Figure size 432x288 with 1 Axes>"
      ]
     },
     "metadata": {
      "needs_background": "light"
     },
     "output_type": "display_data"
    },
    {
     "data": {
      "image/png": "[encoded data removed]",
      "text/plain": [
       "<Figure size 432x288 with 1 Axes>"
      ]
     },
     "metadata": {
      "needs_background": "light"
     },
     "output_type": "display_data"
    },
    {
     "data": {
      "image/png": "[encoded data removed]",
      "text/plain": [
       "<Figure size 432x288 with 1 Axes>"
      ]
     },
     "metadata": {
      "needs_background": "light"
     },
     "output_type": "display_data"
    },
    {
     "data": {
      "image/png": "[encoded data removed]",
      "text/plain": [
       "<Figure size 432x288 with 1 Axes>"
      ]
     },
     "metadata": {
      "needs_background": "light"
     },
     "output_type": "display_data"
    },
    {
     "data": {
      "image/png": "[encoded data removed]",
      "text/plain": [
       "<Figure size 432x288 with 1 Axes>"
      ]
     },
     "metadata": {
      "needs_background": "light"
     },
     "output_type": "display_data"
    },
    {
     "data": {
      "image/png": "[encoded data removed]",
      "text/plain": [
       "<Figure size 432x288 with 1 Axes>"
      ]
     },
     "metadata": {
      "needs_background": "light"
     },
     "output_type": "display_data"
    },
    {
     "data": {
      "image/png": "[encoded data removed]",
      "text/plain": [
       "<Figure size 432x288 with 1 Axes>"
      ]
     },
     "metadata": {
      "needs_background": "light"
     },
     "output_type": "display_data"
    },
    {
     "data": {
      "image/png": "[encoded data removed]",
      "text/plain": [
       "<Figure size 432x288 with 1 Axes>"
      ]
     },
     "metadata": {
      "needs_background": "light"
     },
     "output_type": "display_data"
    }
   ],
   "source": [
    "def distplot_df(df):\n",
    "    import matplotlib.pyplot as plt\n",
    "    import seaborn as sns\n",
    "    \n",
    "    cols=list(df.columns)\n",
    "    \n",
    "    for col in cols:\n",
    "        sns.distplot(df[col])\n",
    "        plt.show()\n",
    "        \n",
    "distplot_df(num)\n"
   ]
  },
  {
   "cell_type": "markdown",
   "metadata": {},
   "source": [
    "# LAB 2\n",
    "Plot a correlation matrix, what can you see?\n",
    "\n",
    "\n",
    "Create a function to plot every discrete variables. Do the same with continuous variables (be careful, you may change the plot type to another one better suited for continuous data).\n",
    "\n",
    "\n",
    "What can you see in the plots?\n",
    "\n",
    "\n",
    "Look for outliers in the continuous variables we have found. Hint: There was a good plot to do that.\n",
    "\n",
    "\n",
    "Have you found outliers? If you have, what should we do with them?\n"
   ]
  },
  {
   "cell_type": "code",
   "execution_count": 35,
   "metadata": {},
   "outputs": [
    {
     "data": {
      "image/png": "[encoded data removed]",
      "text/plain": [
       "<Figure size 720x576 with 2 Axes>"
      ]
     },
     "metadata": {
      "needs_background": "light"
     },
     "output_type": "display_data"
    }
   ],
   "source": [
    "\n",
    "correlations_matrix = num.corr()\n",
    "mask = np.zeros_like(correlations_matrix)\n",
    "mask[np.triu_indices_from(mask)] = True\n",
    "fig, ax = plt.subplots(figsize=(10, 8))\n",
    "ax = sns.heatmap(correlations_matrix, mask=mask, annot=True)\n",
    "plt.show()"
   ]
  },
  {
   "cell_type": "markdown",
   "metadata": {},
   "source": [
    "### The correlation matrix shows high correlation between monthly_premium_auto and total_claim_amount"
   ]
  },
  {
   "cell_type": "markdown",
   "metadata": {},
   "source": [
    "discrete plot\n",
    "['monthly_premium_auto',\n",
    " 'months_since_last_claim',\n",
    " 'months_since_policy_inception',\n",
    " 'number_of_open_complaints',\n",
    " 'number_of_policies']"
   ]
  },
  {
   "cell_type": "code",
   "execution_count": 36,
   "metadata": {},
   "outputs": [
    {
     "data": {
      "image/png": "[encoded data removed]",
      "text/plain": [
       "<Figure size 550.25x360 with 1 Axes>"
      ]
     },
     "metadata": {
      "needs_background": "light"
     },
     "output_type": "display_data"
    }
   ],
   "source": [
    "sns.displot(customer_df[discrete])\n",
    "plt.show()"
   ]
  },
  {
   "cell_type": "markdown",
   "metadata": {},
   "source": [
    "checking the distributions on num columns from correlation matrix"
   ]
  },
  {
   "cell_type": "code",
   "execution_count": 37,
   "metadata": {},
   "outputs": [
    {
     "data": {
      "image/png": "[encoded data removed]",
      "text/plain": [
       "<Figure size 360x360 with 1 Axes>"
      ]
     },
     "metadata": {
      "needs_background": "light"
     },
     "output_type": "display_data"
    },
    {
     "data": {
      "image/png": "[encoded data removed]",
      "text/plain": [
       "<Figure size 360x360 with 1 Axes>"
      ]
     },
     "metadata": {
      "needs_background": "light"
     },
     "output_type": "display_data"
    },
    {
     "data": {
      "image/png": "[encoded data removed]",
      "text/plain": [
       "<Figure size 360x360 with 1 Axes>"
      ]
     },
     "metadata": {
      "needs_background": "light"
     },
     "output_type": "display_data"
    },
    {
     "data": {
      "image/png": "[encoded data removed]",
      "text/plain": [
       "<Figure size 360x360 with 1 Axes>"
      ]
     },
     "metadata": {
      "needs_background": "light"
     },
     "output_type": "display_data"
    }
   ],
   "source": [
    "sns.displot(customer_df['customer_lifetime_value'])\n",
    "plt.show()\n",
    "\n",
    "sns.displot(customer_df['income'])\n",
    "plt.show()\n",
    "\n",
    "sns.displot(customer_df['monthly_premium_auto'])\n",
    "plt.show()\n",
    "\n",
    "sns.displot(customer_df['total_claim_amount'])\n",
    "plt.show()"
   ]
  },
  {
   "cell_type": "code",
   "execution_count": 38,
   "metadata": {},
   "outputs": [],
   "source": [
    "def myplot(customer_df, exclude):\n",
    "    \n",
    "    for i in customer_df:\n",
    "        \n",
    "        if i != exclude:\n",
    "        \n",
    "            if len(customer_df[i].unique()) > 10:\n",
    "            \n",
    "                sns.distplot(customer_df[i], label = i)\n",
    "                plt.show()\n",
    "        \n",
    "            else:\n",
    "                sns.countplot(customer_df[i], label = i)\n",
    "                plt.show()\n"
   ]
  },
  {
   "cell_type": "code",
   "execution_count": 39,
   "metadata": {},
   "outputs": [
    {
     "data": {
      "image/png": "[encoded data removed]",
      "text/plain": [
       "<Figure size 432x288 with 1 Axes>"
      ]
     },
     "metadata": {
      "needs_background": "light"
     },
     "output_type": "display_data"
    },
    {
     "data": {
      "image/png": "[encoded data removed]",
      "text/plain": [
       "<Figure size 432x288 with 1 Axes>"
      ]
     },
     "metadata": {
      "needs_background": "light"
     },
     "output_type": "display_data"
    },
    {
     "data": {
      "image/png": "[encoded data removed]",
      "text/plain": [
       "<Figure size 432x288 with 1 Axes>"
      ]
     },
     "metadata": {
      "needs_background": "light"
     },
     "output_type": "display_data"
    },
    {
     "data": {
      "image/png": "[encoded data removed]",
      "text/plain": [
       "<Figure size 432x288 with 1 Axes>"
      ]
     },
     "metadata": {
      "needs_background": "light"
     },
     "output_type": "display_data"
    },
    {
     "data": {
      "image/png": "[encoded data removed]",
      "text/plain": [
       "<Figure size 432x288 with 1 Axes>"
      ]
     },
     "metadata": {
      "needs_background": "light"
     },
     "output_type": "display_data"
    },
    {
     "data": {
      "image/png": "[encoded data removed]",
      "text/plain": [
       "<Figure size 432x288 with 1 Axes>"
      ]
     },
     "metadata": {
      "needs_background": "light"
     },
     "output_type": "display_data"
    },
    {
     "data": {
      "image/png": "[encoded data removed]",
      "text/plain": [
       "<Figure size 432x288 with 1 Axes>"
      ]
     },
     "metadata": {
      "needs_background": "light"
     },
     "output_type": "display_data"
    },
    {
     "data": {
      "image/png": "[encoded data removed]",
      "text/plain": [
       "<Figure size 432x288 with 1 Axes>"
      ]
     },
     "metadata": {
      "needs_background": "light"
     },
     "output_type": "display_data"
    }
   ],
   "source": [
    "myplot(num, 'Effective To Date')\n"
   ]
  },
  {
   "cell_type": "code",
   "execution_count": 40,
   "metadata": {},
   "outputs": [
    {
     "data": {
      "image/png": "[encoded data removed]",
      "text/plain": [
       "<Figure size 432x288 with 1 Axes>"
      ]
     },
     "metadata": {
      "needs_background": "light"
     },
     "output_type": "display_data"
    },
    {
     "data": {
      "image/png": "[encoded data removed]",
      "text/plain": [
       "<Figure size 432x288 with 1 Axes>"
      ]
     },
     "metadata": {
      "needs_background": "light"
     },
     "output_type": "display_data"
    },
    {
     "data": {
      "image/png": "[encoded data removed]",
      "text/plain": [
       "<Figure size 432x288 with 1 Axes>"
      ]
     },
     "metadata": {
      "needs_background": "light"
     },
     "output_type": "display_data"
    },
    {
     "data": {
      "image/png": "[encoded data removed]",
      "text/plain": [
       "<Figure size 432x288 with 1 Axes>"
      ]
     },
     "metadata": {
      "needs_background": "light"
     },
     "output_type": "display_data"
    },
    {
     "data": {
      "image/png": "[encoded data removed]",
      "text/plain": [
       "<Figure size 432x288 with 1 Axes>"
      ]
     },
     "metadata": {
      "needs_background": "light"
     },
     "output_type": "display_data"
    },
    {
     "data": {
      "image/png": "[encoded data removed]",
      "text/plain": [
       "<Figure size 432x288 with 1 Axes>"
      ]
     },
     "metadata": {
      "needs_background": "light"
     },
     "output_type": "display_data"
    },
    {
     "data": {
      "image/png": "[encoded data removed]",
      "text/plain": [
       "<Figure size 432x288 with 1 Axes>"
      ]
     },
     "metadata": {
      "needs_background": "light"
     },
     "output_type": "display_data"
    },
    {
     "data": {
      "image/png": "[encoded data removed]",
      "text/plain": [
       "<Figure size 432x288 with 1 Axes>"
      ]
     },
     "metadata": {
      "needs_background": "light"
     },
     "output_type": "display_data"
    },
    {
     "data": {
      "image/png": "[encoded data removed]",
      "text/plain": [
       "<Figure size 432x288 with 1 Axes>"
      ]
     },
     "metadata": {
      "needs_background": "light"
     },
     "output_type": "display_data"
    },
    {
     "data": {
      "image/png": "[encoded data removed]",
      "text/plain": [
       "<Figure size 432x288 with 1 Axes>"
      ]
     },
     "metadata": {
      "needs_background": "light"
     },
     "output_type": "display_data"
    },
    {
     "data": {
      "image/png": "[encoded data removed]",
      "text/plain": [
       "<Figure size 432x288 with 1 Axes>"
      ]
     },
     "metadata": {
      "needs_background": "light"
     },
     "output_type": "display_data"
    },
    {
     "data": {
      "image/png": "[encoded data removed]",
      "text/plain": [
       "<Figure size 432x288 with 1 Axes>"
      ]
     },
     "metadata": {
      "needs_background": "light"
     },
     "output_type": "display_data"
    },
    {
     "data": {
      "image/png": "[encoded data removed]",
      "text/plain": [
       "<Figure size 432x288 with 1 Axes>"
      ]
     },
     "metadata": {
      "needs_background": "light"
     },
     "output_type": "display_data"
    },
    {
     "data": {
      "image/png": "[encoded data removed]",
      "text/plain": [
       "<Figure size 432x288 with 1 Axes>"
      ]
     },
     "metadata": {
      "needs_background": "light"
     },
     "output_type": "display_data"
    }
   ],
   "source": [
    "myplot(cat, 'Effective To Date')\n"
   ]
  },
  {
   "cell_type": "markdown",
   "metadata": {},
   "source": [
    "\n",
    "## Look for outliers in the continuous variables we have found. Hint: There was a good plot to do that.\n",
    "\n",
    "\n",
    "Have you found outliers? If you have, what should we do with them?"
   ]
  },
  {
   "cell_type": "code",
   "execution_count": 41,
   "metadata": {},
   "outputs": [],
   "source": [
    "def myboxplot(customer_df):\n",
    "    \n",
    "    for i in customer_df:\n",
    "        sns.boxplot(x=i, data=customer_df)\n",
    "        plt.show()\n",
    "        \n",
    "    return"
   ]
  },
  {
   "cell_type": "code",
   "execution_count": 42,
   "metadata": {},
   "outputs": [
    {
     "data": {
      "image/png": "[encoded data removed]",
      "text/plain": [
       "<Figure size 432x288 with 1 Axes>"
      ]
     },
     "metadata": {
      "needs_background": "light"
     },
     "output_type": "display_data"
    },
    {
     "data": {
      "image/png": "[encoded data removed]",
      "text/plain": [
       "<Figure size 432x288 with 1 Axes>"
      ]
     },
     "metadata": {
      "needs_background": "light"
     },
     "output_type": "display_data"
    },
    {
     "data": {
      "image/png": "[encoded data removed]",
      "text/plain": [
       "<Figure size 432x288 with 1 Axes>"
      ]
     },
     "metadata": {
      "needs_background": "light"
     },
     "output_type": "display_data"
    }
   ],
   "source": [
    "myboxplot(customer_df[continuous])\n",
    "# work on outliers for monthly_premium_auto, total_claim_amount, drop number_of_complaints, change the 0 with the mean for income\n"
   ]
  },
  {
   "cell_type": "code",
   "execution_count": 43,
   "metadata": {},
   "outputs": [],
   "source": [
    "#myboxplot(customer_df[continuous])\n"
   ]
  },
  {
   "cell_type": "code",
   "execution_count": 44,
   "metadata": {},
   "outputs": [
    {
     "data": {
      "text/plain": [
       "[(-0.5, 10.0)]"
      ]
     },
     "execution_count": 44,
     "metadata": {},
     "output_type": "execute_result"
    },
    {
     "data": {
      "image/png": "[encoded data removed]",
      "text/plain": [
       "<Figure size 432x288 with 2 Axes>"
      ]
     },
     "metadata": {
      "needs_background": "light"
     },
     "output_type": "display_data"
    }
   ],
   "source": [
    "ax = sns.distplot(customer_df['customer_lifetime_value'])\n",
    "ax2 = ax.twinx()\n",
    "sns.boxplot(x=customer_df['customer_lifetime_value'], ax=ax2)\n",
    "ax2.set(ylim=(-.5, 10))"
   ]
  },
  {
   "cell_type": "code",
   "execution_count": 45,
   "metadata": {},
   "outputs": [
    {
     "data": {
      "text/plain": [
       "[(-0.5, 10.0)]"
      ]
     },
     "execution_count": 45,
     "metadata": {},
     "output_type": "execute_result"
    },
    {
     "data": {
      "image/png": "[encoded data removed]",
      "text/plain": [
       "<Figure size 432x288 with 2 Axes>"
      ]
     },
     "metadata": {
      "needs_background": "light"
     },
     "output_type": "display_data"
    }
   ],
   "source": [
    "ax = sns.distplot(customer_df['monthly_premium_auto'])\n",
    "ax2 = ax.twinx()\n",
    "sns.boxplot(x=customer_df['monthly_premium_auto'], ax=ax2)\n",
    "ax2.set(ylim=(-.5, 10))"
   ]
  },
  {
   "cell_type": "code",
   "execution_count": 46,
   "metadata": {},
   "outputs": [
    {
     "data": {
      "text/plain": [
       "[(-0.5, 10.0)]"
      ]
     },
     "execution_count": 46,
     "metadata": {},
     "output_type": "execute_result"
    },
    {
     "data": {
      "image/png": "[encoded data removed]",
      "text/plain": [
       "<Figure size 432x288 with 2 Axes>"
      ]
     },
     "metadata": {
      "needs_background": "light"
     },
     "output_type": "display_data"
    }
   ],
   "source": [
    "ax = sns.distplot(customer_df['total_claim_amount'])\n",
    "ax2 = ax.twinx()\n",
    "sns.boxplot(x=customer_df['total_claim_amount'], ax=ax2)\n",
    "ax2.set(ylim=(-.5, 10))"
   ]
  },
  {
   "cell_type": "code",
   "execution_count": 47,
   "metadata": {},
   "outputs": [
    {
     "data": {
      "text/plain": [
       "[(-0.5, 10.0)]"
      ]
     },
     "execution_count": 47,
     "metadata": {},
     "output_type": "execute_result"
    },
    {
     "data": {
      "image/png": "[encoded data removed]",
      "text/plain": [
       "<Figure size 432x288 with 2 Axes>"
      ]
     },
     "metadata": {
      "needs_background": "light"
     },
     "output_type": "display_data"
    }
   ],
   "source": [
    "ax = sns.distplot(customer_df['income'])\n",
    "ax2 = ax.twinx()\n",
    "sns.boxplot(x=customer_df['income'], ax=ax2)\n",
    "ax2.set(ylim=(-.5, 10))"
   ]
  },
  {
   "cell_type": "markdown",
   "metadata": {},
   "source": [
    "#### FILTERING OUT THE OUTLIERS PANDA's APPROACH"
   ]
  },
  {
   "cell_type": "code",
   "execution_count": 48,
   "metadata": {},
   "outputs": [],
   "source": [
    "#customer_df = customer_df[customer_df['income'] > 10000]\n",
    "#sns.distplot(customer_df['income'])\n",
    "#plt.show()\n",
    "\n",
    "#filtered out 0 on income"
   ]
  },
  {
   "cell_type": "markdown",
   "metadata": {},
   "source": [
    "For 0 values in income I could have also used a function\n",
    "\n",
    "vals = pd.DataFrame(customer_df['income'].value_counts())\n",
    "\n",
    "vals = vals.reset_index()\n",
    "\n",
    "vals.columns = ['income', 'counts']\n",
    "\n",
    "df_income = vals[vals['counts']>10000]\n",
    "\n",
    "df_income = list(df_income['income'])\n",
    "\n",
    "df_income\n",
    "\n",
    "def clean_income(x):\n",
    "    \n",
    "    \n",
    "    if x in df_income:\n",
    "        \n",
    "        return x\n",
    "    \n",
    "\n",
    "\n",
    "\n",
    "customer_df['income'] = list(map(clean_income, customer_df['income']))"
   ]
  },
  {
   "cell_type": "code",
   "execution_count": 49,
   "metadata": {},
   "outputs": [
    {
     "name": "stdout",
     "output_type": "stream",
     "text": [
      "The upper wisker is at: 16414.04\n",
      "The number of points outise the upper wisker is:  817\n"
     ]
    },
    {
     "data": {
      "image/png": "[encoded data removed]",
      "text/plain": [
       "<Figure size 432x288 with 1 Axes>"
      ]
     },
     "metadata": {
      "needs_background": "light"
     },
     "output_type": "display_data"
    }
   ],
   "source": [
    "iqr = np.percentile(customer_df['customer_lifetime_value'],75) - np.percentile(customer_df['customer_lifetime_value'],25)\n",
    "upper_limit = np.percentile(customer_df['customer_lifetime_value'],75) + 1.5*iqr\n",
    "print(\"The upper wisker is at: %4.2f\" % upper_limit)\n",
    "outliers = customer_df[customer_df['customer_lifetime_value'] > upper_limit].index.tolist()\n",
    "print(\"The number of points outise the upper wisker is: \",len(outliers))\n",
    "customer_df = customer_df[customer_df['customer_lifetime_value'] < upper_limit]\n",
    "sns.distplot(customer_df['customer_lifetime_value'])\n",
    "plt.show()"
   ]
  },
  {
   "cell_type": "code",
   "execution_count": 50,
   "metadata": {},
   "outputs": [
    {
     "name": "stdout",
     "output_type": "stream",
     "text": [
      "The upper wisker is at: 165.50\n",
      "The number of points outise the upper wisker is:  301\n"
     ]
    },
    {
     "data": {
      "image/png": "[encoded data removed]",
      "text/plain": [
       "<Figure size 432x288 with 1 Axes>"
      ]
     },
     "metadata": {
      "needs_background": "light"
     },
     "output_type": "display_data"
    }
   ],
   "source": [
    "iqr = np.percentile(customer_df['monthly_premium_auto'],75) - np.percentile(customer_df['monthly_premium_auto'],25)\n",
    "upper_limit = np.percentile(customer_df['monthly_premium_auto'],75) + 1.5*iqr\n",
    "print(\"The upper wisker is at: %4.2f\" % upper_limit)\n",
    "outliers = customer_df[customer_df['monthly_premium_auto'] > upper_limit].index.tolist()\n",
    "print(\"The number of points outise the upper wisker is: \",len(outliers))\n",
    "customer_df = customer_df[customer_df['monthly_premium_auto'] < upper_limit]\n",
    "sns.distplot(customer_df['monthly_premium_auto'])\n",
    "plt.show()"
   ]
  },
  {
   "cell_type": "code",
   "execution_count": 51,
   "metadata": {},
   "outputs": [
    {
     "name": "stdout",
     "output_type": "stream",
     "text": [
      "The upper wisker is at: 923.71\n",
      "The number of points outise the upper wisker is:  227\n"
     ]
    },
    {
     "data": {
      "image/png": "[encoded data removed]",
      "text/plain": [
       "<Figure size 432x288 with 1 Axes>"
      ]
     },
     "metadata": {
      "needs_background": "light"
     },
     "output_type": "display_data"
    }
   ],
   "source": [
    "iqr = np.percentile(customer_df['total_claim_amount'],75) - np.percentile(customer_df['total_claim_amount'],25)\n",
    "upper_limit = np.percentile(customer_df['total_claim_amount'],75) + 1.5*iqr\n",
    "print(\"The upper wisker is at: %4.2f\" % upper_limit)\n",
    "outliers = customer_df[customer_df['total_claim_amount'] > upper_limit].index.tolist()\n",
    "print(\"The number of points outise the upper wisker is: \",len(outliers))\n",
    "customer_df = customer_df[customer_df['total_claim_amount'] < upper_limit]\n",
    "sns.distplot(customer_df['total_claim_amount'])\n",
    "plt.show()"
   ]
  },
  {
   "cell_type": "code",
   "execution_count": 52,
   "metadata": {},
   "outputs": [],
   "source": [
    "#education and employment, we will check how do they relate to establish a decision "
   ]
  },
  {
   "cell_type": "code",
   "execution_count": 53,
   "metadata": {},
   "outputs": [
    {
     "data": {
      "text/plain": [
       "array(['Bachelor', 'College', 'Master', 'High School or Below', 'Doctor'],\n",
       "      dtype=object)"
      ]
     },
     "execution_count": 53,
     "metadata": {},
     "output_type": "execute_result"
    }
   ],
   "source": [
    "customer_df['education'].unique()"
   ]
  },
  {
   "cell_type": "code",
   "execution_count": 54,
   "metadata": {},
   "outputs": [
    {
     "data": {
      "text/plain": [
       "array(['Employed', 'Unemployed', 'Medical Leave', 'Disabled', 'Retired'],\n",
       "      dtype=object)"
      ]
     },
     "execution_count": 54,
     "metadata": {},
     "output_type": "execute_result"
    }
   ],
   "source": [
    "customer_df['employmentstatus'].unique()"
   ]
  },
  {
   "cell_type": "code",
   "execution_count": 55,
   "metadata": {},
   "outputs": [
    {
     "data": {
      "text/html": [
       "<div>\n",
       "<style scoped>\n",
       "    .dataframe tbody tr th:only-of-type {\n",
       "        vertical-align: middle;\n",
       "    }\n",
       "\n",
       "    .dataframe tbody tr th {\n",
       "        vertical-align: top;\n",
       "    }\n",
       "\n",
       "    .dataframe thead th {\n",
       "        text-align: right;\n",
       "    }\n",
       "</style>\n",
       "<table border=\"1\" class=\"dataframe\">\n",
       "  <thead>\n",
       "    <tr style=\"text-align: right;\">\n",
       "      <th>employmentstatus</th>\n",
       "      <th>Disabled</th>\n",
       "      <th>Employed</th>\n",
       "      <th>Medical Leave</th>\n",
       "      <th>Retired</th>\n",
       "      <th>Unemployed</th>\n",
       "    </tr>\n",
       "    <tr>\n",
       "      <th>education</th>\n",
       "      <th></th>\n",
       "      <th></th>\n",
       "      <th></th>\n",
       "      <th></th>\n",
       "      <th></th>\n",
       "    </tr>\n",
       "  </thead>\n",
       "  <tbody>\n",
       "    <tr>\n",
       "      <th>Bachelor</th>\n",
       "      <td>109</td>\n",
       "      <td>1475</td>\n",
       "      <td>106</td>\n",
       "      <td>68</td>\n",
       "      <td>577</td>\n",
       "    </tr>\n",
       "    <tr>\n",
       "      <th>College</th>\n",
       "      <td>88</td>\n",
       "      <td>1468</td>\n",
       "      <td>129</td>\n",
       "      <td>93</td>\n",
       "      <td>546</td>\n",
       "    </tr>\n",
       "    <tr>\n",
       "      <th>Doctor</th>\n",
       "      <td>19</td>\n",
       "      <td>229</td>\n",
       "      <td>12</td>\n",
       "      <td>1</td>\n",
       "      <td>48</td>\n",
       "    </tr>\n",
       "    <tr>\n",
       "      <th>High School or Below</th>\n",
       "      <td>96</td>\n",
       "      <td>1304</td>\n",
       "      <td>101</td>\n",
       "      <td>72</td>\n",
       "      <td>607</td>\n",
       "    </tr>\n",
       "    <tr>\n",
       "      <th>Master</th>\n",
       "      <td>37</td>\n",
       "      <td>481</td>\n",
       "      <td>25</td>\n",
       "      <td>17</td>\n",
       "      <td>81</td>\n",
       "    </tr>\n",
       "  </tbody>\n",
       "</table>\n",
       "</div>"
      ],
      "text/plain": [
       "employmentstatus      Disabled  Employed  Medical Leave  Retired  Unemployed\n",
       "education                                                                   \n",
       "Bachelor                   109      1475            106       68         577\n",
       "College                     88      1468            129       93         546\n",
       "Doctor                      19       229             12        1          48\n",
       "High School or Below        96      1304            101       72         607\n",
       "Master                      37       481             25       17          81"
      ]
     },
     "execution_count": 55,
     "metadata": {},
     "output_type": "execute_result"
    }
   ],
   "source": [
    "data_crosstab = pd.crosstab(customer_df['education'], customer_df['employmentstatus'], margins = False)\n",
    "data_crosstab"
   ]
  },
  {
   "cell_type": "code",
   "execution_count": 56,
   "metadata": {},
   "outputs": [
    {
     "name": "stdout",
     "output_type": "stream",
     "text": [
      "The Chi2 value is:  107.38\n",
      "The p-value is:  1.40787671727017e-15\n",
      "The number of degrees of freedom is:  16\n",
      "The expected frequencies are: \n"
     ]
    },
    {
     "data": {
      "text/html": [
       "<div>\n",
       "<style scoped>\n",
       "    .dataframe tbody tr th:only-of-type {\n",
       "        vertical-align: middle;\n",
       "    }\n",
       "\n",
       "    .dataframe tbody tr th {\n",
       "        vertical-align: top;\n",
       "    }\n",
       "\n",
       "    .dataframe thead th {\n",
       "        text-align: right;\n",
       "    }\n",
       "</style>\n",
       "<table border=\"1\" class=\"dataframe\">\n",
       "  <thead>\n",
       "    <tr style=\"text-align: right;\">\n",
       "      <th>employmentstatus</th>\n",
       "      <th>Disabled</th>\n",
       "      <th>Employed</th>\n",
       "      <th>Medical Leave</th>\n",
       "      <th>Retired</th>\n",
       "      <th>Unemployed</th>\n",
       "    </tr>\n",
       "    <tr>\n",
       "      <th>education</th>\n",
       "      <th></th>\n",
       "      <th></th>\n",
       "      <th></th>\n",
       "      <th></th>\n",
       "      <th></th>\n",
       "    </tr>\n",
       "  </thead>\n",
       "  <tbody>\n",
       "    <tr>\n",
       "      <th>Bachelor</th>\n",
       "      <td>104.623828</td>\n",
       "      <td>1486.018102</td>\n",
       "      <td>111.818590</td>\n",
       "      <td>75.245218</td>\n",
       "      <td>557.294261</td>\n",
       "    </tr>\n",
       "    <tr>\n",
       "      <th>College</th>\n",
       "      <td>104.130954</td>\n",
       "      <td>1479.017589</td>\n",
       "      <td>111.291822</td>\n",
       "      <td>74.890743</td>\n",
       "      <td>554.668892</td>\n",
       "    </tr>\n",
       "    <tr>\n",
       "      <th>Doctor</th>\n",
       "      <td>13.845295</td>\n",
       "      <td>196.650790</td>\n",
       "      <td>14.797407</td>\n",
       "      <td>9.957504</td>\n",
       "      <td>73.749005</td>\n",
       "    </tr>\n",
       "    <tr>\n",
       "      <th>High School or Below</th>\n",
       "      <td>97.678778</td>\n",
       "      <td>1387.374503</td>\n",
       "      <td>104.395943</td>\n",
       "      <td>70.250353</td>\n",
       "      <td>520.300424</td>\n",
       "    </tr>\n",
       "    <tr>\n",
       "      <th>Master</th>\n",
       "      <td>28.721145</td>\n",
       "      <td>407.939017</td>\n",
       "      <td>30.696238</td>\n",
       "      <td>20.656182</td>\n",
       "      <td>152.987418</td>\n",
       "    </tr>\n",
       "  </tbody>\n",
       "</table>\n",
       "</div>"
      ],
      "text/plain": [
       "employmentstatus        Disabled     Employed  Medical Leave    Retired  \\\n",
       "education                                                                 \n",
       "Bachelor              104.623828  1486.018102     111.818590  75.245218   \n",
       "College               104.130954  1479.017589     111.291822  74.890743   \n",
       "Doctor                 13.845295   196.650790      14.797407   9.957504   \n",
       "High School or Below   97.678778  1387.374503     104.395943  70.250353   \n",
       "Master                 28.721145   407.939017      30.696238  20.656182   \n",
       "\n",
       "employmentstatus      Unemployed  \n",
       "education                         \n",
       "Bachelor              557.294261  \n",
       "College               554.668892  \n",
       "Doctor                 73.749005  \n",
       "High School or Below  520.300424  \n",
       "Master                152.987418  "
      ]
     },
     "execution_count": 56,
     "metadata": {},
     "output_type": "execute_result"
    }
   ],
   "source": [
    "from scipy.stats import chi2_contingency\n",
    "\n",
    "chi2, p_value, dof, expected_freq = chi2_contingency(data_crosstab, correction=False)\n",
    "\n",
    "print(\"The Chi2 value is: \",round(chi2,2))\n",
    "print(\"The p-value is: \",p_value)\n",
    "print(\"The number of degrees of freedom is: \",dof)\n",
    "print(\"The expected frequencies are: \")\n",
    "pd.DataFrame(expected_freq, columns=data_crosstab.columns, index=data_crosstab.index)"
   ]
  },
  {
   "cell_type": "markdown",
   "metadata": {},
   "source": [
    "Let's use the usual confidence level of 95%.\n",
    "\n",
    "Chi 2 =27.16 DF=12\n",
    "The two-tailed P value is less than 0.05 (the complementary 5%) 21.03<27.16\n",
    "\n",
    "We reject the nul hypotheses columns education and employmentstatus are related.\n",
    "\n",
    "decision: we can drop education as it has more columns "
   ]
  },
  {
   "cell_type": "code",
   "execution_count": 57,
   "metadata": {},
   "outputs": [],
   "source": [
    "customer_df.drop('education', axis = 1, inplace = True)"
   ]
  },
  {
   "cell_type": "code",
   "execution_count": 58,
   "metadata": {},
   "outputs": [
    {
     "data": {
      "text/html": [
       "<div>\n",
       "<style scoped>\n",
       "    .dataframe tbody tr th:only-of-type {\n",
       "        vertical-align: middle;\n",
       "    }\n",
       "\n",
       "    .dataframe tbody tr th {\n",
       "        vertical-align: top;\n",
       "    }\n",
       "\n",
       "    .dataframe thead th {\n",
       "        text-align: right;\n",
       "    }\n",
       "</style>\n",
       "<table border=\"1\" class=\"dataframe\">\n",
       "  <thead>\n",
       "    <tr style=\"text-align: right;\">\n",
       "      <th></th>\n",
       "      <th>state</th>\n",
       "      <th>customer_lifetime_value</th>\n",
       "      <th>response</th>\n",
       "      <th>coverage</th>\n",
       "      <th>effective_to_date</th>\n",
       "      <th>employmentstatus</th>\n",
       "      <th>gender</th>\n",
       "      <th>income</th>\n",
       "      <th>location_code</th>\n",
       "      <th>marital_status</th>\n",
       "      <th>monthly_premium_auto</th>\n",
       "      <th>months_since_last_claim</th>\n",
       "      <th>months_since_policy_inception</th>\n",
       "      <th>number_of_open_complaints</th>\n",
       "      <th>number_of_policies</th>\n",
       "      <th>policy_type</th>\n",
       "      <th>policy</th>\n",
       "      <th>renew_offer_type</th>\n",
       "      <th>sales_channel</th>\n",
       "      <th>total_claim_amount</th>\n",
       "      <th>vehicle_class</th>\n",
       "      <th>vehicle_size</th>\n",
       "    </tr>\n",
       "    <tr>\n",
       "      <th>customer</th>\n",
       "      <th></th>\n",
       "      <th></th>\n",
       "      <th></th>\n",
       "      <th></th>\n",
       "      <th></th>\n",
       "      <th></th>\n",
       "      <th></th>\n",
       "      <th></th>\n",
       "      <th></th>\n",
       "      <th></th>\n",
       "      <th></th>\n",
       "      <th></th>\n",
       "      <th></th>\n",
       "      <th></th>\n",
       "      <th></th>\n",
       "      <th></th>\n",
       "      <th></th>\n",
       "      <th></th>\n",
       "      <th></th>\n",
       "      <th></th>\n",
       "      <th></th>\n",
       "      <th></th>\n",
       "    </tr>\n",
       "  </thead>\n",
       "  <tbody>\n",
       "    <tr>\n",
       "      <th>BU79786</th>\n",
       "      <td>Washington</td>\n",
       "      <td>2763.519279</td>\n",
       "      <td>No</td>\n",
       "      <td>Basic</td>\n",
       "      <td>2011-02-24</td>\n",
       "      <td>Employed</td>\n",
       "      <td>F</td>\n",
       "      <td>56274</td>\n",
       "      <td>Suburban</td>\n",
       "      <td>Married</td>\n",
       "      <td>69</td>\n",
       "      <td>32</td>\n",
       "      <td>5</td>\n",
       "      <td>0</td>\n",
       "      <td>1</td>\n",
       "      <td>Corporate Auto</td>\n",
       "      <td>Corporate L3</td>\n",
       "      <td>Offer1</td>\n",
       "      <td>Agent</td>\n",
       "      <td>384.811147</td>\n",
       "      <td>Two-Door Car</td>\n",
       "      <td>Medsize</td>\n",
       "    </tr>\n",
       "    <tr>\n",
       "      <th>AI49188</th>\n",
       "      <td>Nevada</td>\n",
       "      <td>12887.431650</td>\n",
       "      <td>No</td>\n",
       "      <td>Premium</td>\n",
       "      <td>2011-02-19</td>\n",
       "      <td>Employed</td>\n",
       "      <td>F</td>\n",
       "      <td>48767</td>\n",
       "      <td>Suburban</td>\n",
       "      <td>Married</td>\n",
       "      <td>108</td>\n",
       "      <td>18</td>\n",
       "      <td>38</td>\n",
       "      <td>0</td>\n",
       "      <td>2</td>\n",
       "      <td>Personal Auto</td>\n",
       "      <td>Personal L3</td>\n",
       "      <td>Offer1</td>\n",
       "      <td>Agent</td>\n",
       "      <td>566.472247</td>\n",
       "      <td>Two-Door Car</td>\n",
       "      <td>Medsize</td>\n",
       "    </tr>\n",
       "    <tr>\n",
       "      <th>WW63253</th>\n",
       "      <td>California</td>\n",
       "      <td>7645.861827</td>\n",
       "      <td>No</td>\n",
       "      <td>Basic</td>\n",
       "      <td>2011-01-20</td>\n",
       "      <td>Unemployed</td>\n",
       "      <td>M</td>\n",
       "      <td>0</td>\n",
       "      <td>Suburban</td>\n",
       "      <td>Married</td>\n",
       "      <td>106</td>\n",
       "      <td>18</td>\n",
       "      <td>65</td>\n",
       "      <td>0</td>\n",
       "      <td>7</td>\n",
       "      <td>Corporate Auto</td>\n",
       "      <td>Corporate L2</td>\n",
       "      <td>Offer1</td>\n",
       "      <td>Call Center</td>\n",
       "      <td>529.881344</td>\n",
       "      <td>SUV</td>\n",
       "      <td>Medsize</td>\n",
       "    </tr>\n",
       "    <tr>\n",
       "      <th>HB64268</th>\n",
       "      <td>Washington</td>\n",
       "      <td>2813.692575</td>\n",
       "      <td>No</td>\n",
       "      <td>Basic</td>\n",
       "      <td>2011-02-03</td>\n",
       "      <td>Employed</td>\n",
       "      <td>M</td>\n",
       "      <td>43836</td>\n",
       "      <td>Rural</td>\n",
       "      <td>Single</td>\n",
       "      <td>73</td>\n",
       "      <td>12</td>\n",
       "      <td>44</td>\n",
       "      <td>0</td>\n",
       "      <td>1</td>\n",
       "      <td>Personal Auto</td>\n",
       "      <td>Personal L1</td>\n",
       "      <td>Offer1</td>\n",
       "      <td>Agent</td>\n",
       "      <td>138.130879</td>\n",
       "      <td>Four-Door Car</td>\n",
       "      <td>Medsize</td>\n",
       "    </tr>\n",
       "    <tr>\n",
       "      <th>OC83172</th>\n",
       "      <td>Oregon</td>\n",
       "      <td>8256.297800</td>\n",
       "      <td>Yes</td>\n",
       "      <td>Basic</td>\n",
       "      <td>2011-01-25</td>\n",
       "      <td>Employed</td>\n",
       "      <td>F</td>\n",
       "      <td>62902</td>\n",
       "      <td>Rural</td>\n",
       "      <td>Married</td>\n",
       "      <td>69</td>\n",
       "      <td>14</td>\n",
       "      <td>94</td>\n",
       "      <td>0</td>\n",
       "      <td>2</td>\n",
       "      <td>Personal Auto</td>\n",
       "      <td>Personal L3</td>\n",
       "      <td>Offer2</td>\n",
       "      <td>Web</td>\n",
       "      <td>159.383042</td>\n",
       "      <td>Two-Door Car</td>\n",
       "      <td>Medsize</td>\n",
       "    </tr>\n",
       "  </tbody>\n",
       "</table>\n",
       "</div>"
      ],
      "text/plain": [
       "               state  customer_lifetime_value response coverage  \\\n",
       "customer                                                          \n",
       "BU79786   Washington              2763.519279       No    Basic   \n",
       "AI49188       Nevada             12887.431650       No  Premium   \n",
       "WW63253   California              7645.861827       No    Basic   \n",
       "HB64268   Washington              2813.692575       No    Basic   \n",
       "OC83172       Oregon              8256.297800      Yes    Basic   \n",
       "\n",
       "         effective_to_date employmentstatus gender  income location_code  \\\n",
       "customer                                                                   \n",
       "BU79786         2011-02-24         Employed      F   56274      Suburban   \n",
       "AI49188         2011-02-19         Employed      F   48767      Suburban   \n",
       "WW63253         2011-01-20       Unemployed      M       0      Suburban   \n",
       "HB64268         2011-02-03         Employed      M   43836         Rural   \n",
       "OC83172         2011-01-25         Employed      F   62902         Rural   \n",
       "\n",
       "         marital_status  monthly_premium_auto  months_since_last_claim  \\\n",
       "customer                                                                 \n",
       "BU79786         Married                    69                       32   \n",
       "AI49188         Married                   108                       18   \n",
       "WW63253         Married                   106                       18   \n",
       "HB64268          Single                    73                       12   \n",
       "OC83172         Married                    69                       14   \n",
       "\n",
       "          months_since_policy_inception  number_of_open_complaints  \\\n",
       "customer                                                             \n",
       "BU79786                               5                          0   \n",
       "AI49188                              38                          0   \n",
       "WW63253                              65                          0   \n",
       "HB64268                              44                          0   \n",
       "OC83172                              94                          0   \n",
       "\n",
       "          number_of_policies     policy_type        policy renew_offer_type  \\\n",
       "customer                                                                      \n",
       "BU79786                    1  Corporate Auto  Corporate L3           Offer1   \n",
       "AI49188                    2   Personal Auto   Personal L3           Offer1   \n",
       "WW63253                    7  Corporate Auto  Corporate L2           Offer1   \n",
       "HB64268                    1   Personal Auto   Personal L1           Offer1   \n",
       "OC83172                    2   Personal Auto   Personal L3           Offer2   \n",
       "\n",
       "         sales_channel  total_claim_amount  vehicle_class vehicle_size  \n",
       "customer                                                                \n",
       "BU79786          Agent          384.811147   Two-Door Car      Medsize  \n",
       "AI49188          Agent          566.472247   Two-Door Car      Medsize  \n",
       "WW63253    Call Center          529.881344            SUV      Medsize  \n",
       "HB64268          Agent          138.130879  Four-Door Car      Medsize  \n",
       "OC83172            Web          159.383042   Two-Door Car      Medsize  "
      ]
     },
     "execution_count": 58,
     "metadata": {},
     "output_type": "execute_result"
    }
   ],
   "source": [
    "customer_df.head()"
   ]
  },
  {
   "cell_type": "code",
   "execution_count": 59,
   "metadata": {},
   "outputs": [],
   "source": [
    "#gender and employment, we will check how do they relate to establish a decision "
   ]
  },
  {
   "cell_type": "code",
   "execution_count": 60,
   "metadata": {},
   "outputs": [
    {
     "data": {
      "text/plain": [
       "array(['F', 'M'], dtype=object)"
      ]
     },
     "execution_count": 60,
     "metadata": {},
     "output_type": "execute_result"
    }
   ],
   "source": [
    "customer_df['gender'].unique()"
   ]
  },
  {
   "cell_type": "code",
   "execution_count": 61,
   "metadata": {},
   "outputs": [
    {
     "data": {
      "text/html": [
       "<div>\n",
       "<style scoped>\n",
       "    .dataframe tbody tr th:only-of-type {\n",
       "        vertical-align: middle;\n",
       "    }\n",
       "\n",
       "    .dataframe tbody tr th {\n",
       "        vertical-align: top;\n",
       "    }\n",
       "\n",
       "    .dataframe thead th {\n",
       "        text-align: right;\n",
       "    }\n",
       "</style>\n",
       "<table border=\"1\" class=\"dataframe\">\n",
       "  <thead>\n",
       "    <tr style=\"text-align: right;\">\n",
       "      <th>employmentstatus</th>\n",
       "      <th>Disabled</th>\n",
       "      <th>Employed</th>\n",
       "      <th>Medical Leave</th>\n",
       "      <th>Retired</th>\n",
       "      <th>Unemployed</th>\n",
       "    </tr>\n",
       "    <tr>\n",
       "      <th>gender</th>\n",
       "      <th></th>\n",
       "      <th></th>\n",
       "      <th></th>\n",
       "      <th></th>\n",
       "      <th></th>\n",
       "    </tr>\n",
       "  </thead>\n",
       "  <tbody>\n",
       "    <tr>\n",
       "      <th>F</th>\n",
       "      <td>211</td>\n",
       "      <td>2530</td>\n",
       "      <td>195</td>\n",
       "      <td>113</td>\n",
       "      <td>934</td>\n",
       "    </tr>\n",
       "    <tr>\n",
       "      <th>M</th>\n",
       "      <td>138</td>\n",
       "      <td>2427</td>\n",
       "      <td>178</td>\n",
       "      <td>138</td>\n",
       "      <td>925</td>\n",
       "    </tr>\n",
       "  </tbody>\n",
       "</table>\n",
       "</div>"
      ],
      "text/plain": [
       "employmentstatus  Disabled  Employed  Medical Leave  Retired  Unemployed\n",
       "gender                                                                  \n",
       "F                      211      2530            195      113         934\n",
       "M                      138      2427            178      138         925"
      ]
     },
     "execution_count": 61,
     "metadata": {},
     "output_type": "execute_result"
    }
   ],
   "source": [
    "data_crosstab = pd.crosstab(customer_df['gender'], customer_df['employmentstatus'], margins = False)\n",
    "data_crosstab"
   ]
  },
  {
   "cell_type": "code",
   "execution_count": 62,
   "metadata": {},
   "outputs": [
    {
     "name": "stdout",
     "output_type": "stream",
     "text": [
      "The Chi2 value is:  16.7\n",
      "The p-value is:  0.0022059960446450693\n",
      "The number of degrees of freedom is:  4\n",
      "The expected frequencies are: \n"
     ]
    },
    {
     "data": {
      "text/html": [
       "<div>\n",
       "<style scoped>\n",
       "    .dataframe tbody tr th:only-of-type {\n",
       "        vertical-align: middle;\n",
       "    }\n",
       "\n",
       "    .dataframe tbody tr th {\n",
       "        vertical-align: top;\n",
       "    }\n",
       "\n",
       "    .dataframe thead th {\n",
       "        text-align: right;\n",
       "    }\n",
       "</style>\n",
       "<table border=\"1\" class=\"dataframe\">\n",
       "  <thead>\n",
       "    <tr style=\"text-align: right;\">\n",
       "      <th>employmentstatus</th>\n",
       "      <th>Disabled</th>\n",
       "      <th>Employed</th>\n",
       "      <th>Medical Leave</th>\n",
       "      <th>Retired</th>\n",
       "      <th>Unemployed</th>\n",
       "    </tr>\n",
       "    <tr>\n",
       "      <th>gender</th>\n",
       "      <th></th>\n",
       "      <th></th>\n",
       "      <th></th>\n",
       "      <th></th>\n",
       "      <th></th>\n",
       "    </tr>\n",
       "  </thead>\n",
       "  <tbody>\n",
       "    <tr>\n",
       "      <th>F</th>\n",
       "      <td>178.4654</td>\n",
       "      <td>2534.822314</td>\n",
       "      <td>190.738092</td>\n",
       "      <td>128.351907</td>\n",
       "      <td>950.622288</td>\n",
       "    </tr>\n",
       "    <tr>\n",
       "      <th>M</th>\n",
       "      <td>170.5346</td>\n",
       "      <td>2422.177686</td>\n",
       "      <td>182.261908</td>\n",
       "      <td>122.648093</td>\n",
       "      <td>908.377712</td>\n",
       "    </tr>\n",
       "  </tbody>\n",
       "</table>\n",
       "</div>"
      ],
      "text/plain": [
       "employmentstatus  Disabled     Employed  Medical Leave     Retired  Unemployed\n",
       "gender                                                                        \n",
       "F                 178.4654  2534.822314     190.738092  128.351907  950.622288\n",
       "M                 170.5346  2422.177686     182.261908  122.648093  908.377712"
      ]
     },
     "execution_count": 62,
     "metadata": {},
     "output_type": "execute_result"
    }
   ],
   "source": [
    "from scipy.stats import chi2_contingency\n",
    "\n",
    "chi2, p_value, dof, expected_freq = chi2_contingency(data_crosstab, correction=False)\n",
    "\n",
    "print(\"The Chi2 value is: \",round(chi2,2))\n",
    "print(\"The p-value is: \",p_value)\n",
    "print(\"The number of degrees of freedom is: \",dof)\n",
    "print(\"The expected frequencies are: \")\n",
    "pd.DataFrame(expected_freq, columns=data_crosstab.columns, index=data_crosstab.index)"
   ]
  },
  {
   "cell_type": "markdown",
   "metadata": {},
   "source": [
    "Let's use the usual confidence level of 95%.\n",
    "\n",
    "Chi 2 =17.22 DF=3\n",
    "The two-tailed P value is less than 0.05 (the complementary 5%) 7.82<17.22\n",
    "\n",
    "We reject the nul hypotheses columns gender and employmentstatus are related.\n",
    "\n",
    "decision: we can drop employmentstatus as it has more columns "
   ]
  },
  {
   "cell_type": "code",
   "execution_count": 63,
   "metadata": {},
   "outputs": [],
   "source": [
    "customer_df.drop('employmentstatus', axis = 1, inplace = True)"
   ]
  },
  {
   "cell_type": "code",
   "execution_count": 64,
   "metadata": {},
   "outputs": [
    {
     "data": {
      "text/html": [
       "<div>\n",
       "<style scoped>\n",
       "    .dataframe tbody tr th:only-of-type {\n",
       "        vertical-align: middle;\n",
       "    }\n",
       "\n",
       "    .dataframe tbody tr th {\n",
       "        vertical-align: top;\n",
       "    }\n",
       "\n",
       "    .dataframe thead th {\n",
       "        text-align: right;\n",
       "    }\n",
       "</style>\n",
       "<table border=\"1\" class=\"dataframe\">\n",
       "  <thead>\n",
       "    <tr style=\"text-align: right;\">\n",
       "      <th></th>\n",
       "      <th>state</th>\n",
       "      <th>customer_lifetime_value</th>\n",
       "      <th>response</th>\n",
       "      <th>coverage</th>\n",
       "      <th>effective_to_date</th>\n",
       "      <th>gender</th>\n",
       "      <th>income</th>\n",
       "      <th>location_code</th>\n",
       "      <th>marital_status</th>\n",
       "      <th>monthly_premium_auto</th>\n",
       "      <th>months_since_last_claim</th>\n",
       "      <th>months_since_policy_inception</th>\n",
       "      <th>number_of_open_complaints</th>\n",
       "      <th>number_of_policies</th>\n",
       "      <th>policy_type</th>\n",
       "      <th>policy</th>\n",
       "      <th>renew_offer_type</th>\n",
       "      <th>sales_channel</th>\n",
       "      <th>total_claim_amount</th>\n",
       "      <th>vehicle_class</th>\n",
       "      <th>vehicle_size</th>\n",
       "    </tr>\n",
       "    <tr>\n",
       "      <th>customer</th>\n",
       "      <th></th>\n",
       "      <th></th>\n",
       "      <th></th>\n",
       "      <th></th>\n",
       "      <th></th>\n",
       "      <th></th>\n",
       "      <th></th>\n",
       "      <th></th>\n",
       "      <th></th>\n",
       "      <th></th>\n",
       "      <th></th>\n",
       "      <th></th>\n",
       "      <th></th>\n",
       "      <th></th>\n",
       "      <th></th>\n",
       "      <th></th>\n",
       "      <th></th>\n",
       "      <th></th>\n",
       "      <th></th>\n",
       "      <th></th>\n",
       "      <th></th>\n",
       "    </tr>\n",
       "  </thead>\n",
       "  <tbody>\n",
       "    <tr>\n",
       "      <th>BU79786</th>\n",
       "      <td>Washington</td>\n",
       "      <td>2763.519279</td>\n",
       "      <td>No</td>\n",
       "      <td>Basic</td>\n",
       "      <td>2011-02-24</td>\n",
       "      <td>F</td>\n",
       "      <td>56274</td>\n",
       "      <td>Suburban</td>\n",
       "      <td>Married</td>\n",
       "      <td>69</td>\n",
       "      <td>32</td>\n",
       "      <td>5</td>\n",
       "      <td>0</td>\n",
       "      <td>1</td>\n",
       "      <td>Corporate Auto</td>\n",
       "      <td>Corporate L3</td>\n",
       "      <td>Offer1</td>\n",
       "      <td>Agent</td>\n",
       "      <td>384.811147</td>\n",
       "      <td>Two-Door Car</td>\n",
       "      <td>Medsize</td>\n",
       "    </tr>\n",
       "    <tr>\n",
       "      <th>AI49188</th>\n",
       "      <td>Nevada</td>\n",
       "      <td>12887.431650</td>\n",
       "      <td>No</td>\n",
       "      <td>Premium</td>\n",
       "      <td>2011-02-19</td>\n",
       "      <td>F</td>\n",
       "      <td>48767</td>\n",
       "      <td>Suburban</td>\n",
       "      <td>Married</td>\n",
       "      <td>108</td>\n",
       "      <td>18</td>\n",
       "      <td>38</td>\n",
       "      <td>0</td>\n",
       "      <td>2</td>\n",
       "      <td>Personal Auto</td>\n",
       "      <td>Personal L3</td>\n",
       "      <td>Offer1</td>\n",
       "      <td>Agent</td>\n",
       "      <td>566.472247</td>\n",
       "      <td>Two-Door Car</td>\n",
       "      <td>Medsize</td>\n",
       "    </tr>\n",
       "    <tr>\n",
       "      <th>WW63253</th>\n",
       "      <td>California</td>\n",
       "      <td>7645.861827</td>\n",
       "      <td>No</td>\n",
       "      <td>Basic</td>\n",
       "      <td>2011-01-20</td>\n",
       "      <td>M</td>\n",
       "      <td>0</td>\n",
       "      <td>Suburban</td>\n",
       "      <td>Married</td>\n",
       "      <td>106</td>\n",
       "      <td>18</td>\n",
       "      <td>65</td>\n",
       "      <td>0</td>\n",
       "      <td>7</td>\n",
       "      <td>Corporate Auto</td>\n",
       "      <td>Corporate L2</td>\n",
       "      <td>Offer1</td>\n",
       "      <td>Call Center</td>\n",
       "      <td>529.881344</td>\n",
       "      <td>SUV</td>\n",
       "      <td>Medsize</td>\n",
       "    </tr>\n",
       "    <tr>\n",
       "      <th>HB64268</th>\n",
       "      <td>Washington</td>\n",
       "      <td>2813.692575</td>\n",
       "      <td>No</td>\n",
       "      <td>Basic</td>\n",
       "      <td>2011-02-03</td>\n",
       "      <td>M</td>\n",
       "      <td>43836</td>\n",
       "      <td>Rural</td>\n",
       "      <td>Single</td>\n",
       "      <td>73</td>\n",
       "      <td>12</td>\n",
       "      <td>44</td>\n",
       "      <td>0</td>\n",
       "      <td>1</td>\n",
       "      <td>Personal Auto</td>\n",
       "      <td>Personal L1</td>\n",
       "      <td>Offer1</td>\n",
       "      <td>Agent</td>\n",
       "      <td>138.130879</td>\n",
       "      <td>Four-Door Car</td>\n",
       "      <td>Medsize</td>\n",
       "    </tr>\n",
       "    <tr>\n",
       "      <th>OC83172</th>\n",
       "      <td>Oregon</td>\n",
       "      <td>8256.297800</td>\n",
       "      <td>Yes</td>\n",
       "      <td>Basic</td>\n",
       "      <td>2011-01-25</td>\n",
       "      <td>F</td>\n",
       "      <td>62902</td>\n",
       "      <td>Rural</td>\n",
       "      <td>Married</td>\n",
       "      <td>69</td>\n",
       "      <td>14</td>\n",
       "      <td>94</td>\n",
       "      <td>0</td>\n",
       "      <td>2</td>\n",
       "      <td>Personal Auto</td>\n",
       "      <td>Personal L3</td>\n",
       "      <td>Offer2</td>\n",
       "      <td>Web</td>\n",
       "      <td>159.383042</td>\n",
       "      <td>Two-Door Car</td>\n",
       "      <td>Medsize</td>\n",
       "    </tr>\n",
       "  </tbody>\n",
       "</table>\n",
       "</div>"
      ],
      "text/plain": [
       "               state  customer_lifetime_value response coverage  \\\n",
       "customer                                                          \n",
       "BU79786   Washington              2763.519279       No    Basic   \n",
       "AI49188       Nevada             12887.431650       No  Premium   \n",
       "WW63253   California              7645.861827       No    Basic   \n",
       "HB64268   Washington              2813.692575       No    Basic   \n",
       "OC83172       Oregon              8256.297800      Yes    Basic   \n",
       "\n",
       "         effective_to_date gender  income location_code marital_status  \\\n",
       "customer                                                                 \n",
       "BU79786         2011-02-24      F   56274      Suburban        Married   \n",
       "AI49188         2011-02-19      F   48767      Suburban        Married   \n",
       "WW63253         2011-01-20      M       0      Suburban        Married   \n",
       "HB64268         2011-02-03      M   43836         Rural         Single   \n",
       "OC83172         2011-01-25      F   62902         Rural        Married   \n",
       "\n",
       "          monthly_premium_auto  months_since_last_claim  \\\n",
       "customer                                                  \n",
       "BU79786                     69                       32   \n",
       "AI49188                    108                       18   \n",
       "WW63253                    106                       18   \n",
       "HB64268                     73                       12   \n",
       "OC83172                     69                       14   \n",
       "\n",
       "          months_since_policy_inception  number_of_open_complaints  \\\n",
       "customer                                                             \n",
       "BU79786                               5                          0   \n",
       "AI49188                              38                          0   \n",
       "WW63253                              65                          0   \n",
       "HB64268                              44                          0   \n",
       "OC83172                              94                          0   \n",
       "\n",
       "          number_of_policies     policy_type        policy renew_offer_type  \\\n",
       "customer                                                                      \n",
       "BU79786                    1  Corporate Auto  Corporate L3           Offer1   \n",
       "AI49188                    2   Personal Auto   Personal L3           Offer1   \n",
       "WW63253                    7  Corporate Auto  Corporate L2           Offer1   \n",
       "HB64268                    1   Personal Auto   Personal L1           Offer1   \n",
       "OC83172                    2   Personal Auto   Personal L3           Offer2   \n",
       "\n",
       "         sales_channel  total_claim_amount  vehicle_class vehicle_size  \n",
       "customer                                                                \n",
       "BU79786          Agent          384.811147   Two-Door Car      Medsize  \n",
       "AI49188          Agent          566.472247   Two-Door Car      Medsize  \n",
       "WW63253    Call Center          529.881344            SUV      Medsize  \n",
       "HB64268          Agent          138.130879  Four-Door Car      Medsize  \n",
       "OC83172            Web          159.383042   Two-Door Car      Medsize  "
      ]
     },
     "execution_count": 64,
     "metadata": {},
     "output_type": "execute_result"
    }
   ],
   "source": [
    "customer_df.head()"
   ]
  },
  {
   "cell_type": "code",
   "execution_count": 65,
   "metadata": {},
   "outputs": [],
   "source": [
    "#state and location_code, we will check how do they relate to establish a decision "
   ]
  },
  {
   "cell_type": "code",
   "execution_count": 66,
   "metadata": {},
   "outputs": [
    {
     "data": {
      "text/plain": [
       "array(['Washington', 'Nevada', 'California', 'Oregon', 'Arizona'],\n",
       "      dtype=object)"
      ]
     },
     "execution_count": 66,
     "metadata": {},
     "output_type": "execute_result"
    }
   ],
   "source": [
    "customer_df['state'].unique()"
   ]
  },
  {
   "cell_type": "code",
   "execution_count": 67,
   "metadata": {},
   "outputs": [
    {
     "data": {
      "text/plain": [
       "array(['Suburban', 'Rural', 'Urban'], dtype=object)"
      ]
     },
     "execution_count": 67,
     "metadata": {},
     "output_type": "execute_result"
    }
   ],
   "source": [
    "customer_df['location_code'].unique()"
   ]
  },
  {
   "cell_type": "code",
   "execution_count": 68,
   "metadata": {},
   "outputs": [
    {
     "data": {
      "text/html": [
       "<div>\n",
       "<style scoped>\n",
       "    .dataframe tbody tr th:only-of-type {\n",
       "        vertical-align: middle;\n",
       "    }\n",
       "\n",
       "    .dataframe tbody tr th {\n",
       "        vertical-align: top;\n",
       "    }\n",
       "\n",
       "    .dataframe thead th {\n",
       "        text-align: right;\n",
       "    }\n",
       "</style>\n",
       "<table border=\"1\" class=\"dataframe\">\n",
       "  <thead>\n",
       "    <tr style=\"text-align: right;\">\n",
       "      <th>location_code</th>\n",
       "      <th>Rural</th>\n",
       "      <th>Suburban</th>\n",
       "      <th>Urban</th>\n",
       "    </tr>\n",
       "    <tr>\n",
       "      <th>state</th>\n",
       "      <th></th>\n",
       "      <th></th>\n",
       "      <th></th>\n",
       "    </tr>\n",
       "  </thead>\n",
       "  <tbody>\n",
       "    <tr>\n",
       "      <th>Arizona</th>\n",
       "      <td>296</td>\n",
       "      <td>919</td>\n",
       "      <td>256</td>\n",
       "    </tr>\n",
       "    <tr>\n",
       "      <th>California</th>\n",
       "      <td>537</td>\n",
       "      <td>1645</td>\n",
       "      <td>493</td>\n",
       "    </tr>\n",
       "    <tr>\n",
       "      <th>Nevada</th>\n",
       "      <td>159</td>\n",
       "      <td>453</td>\n",
       "      <td>134</td>\n",
       "    </tr>\n",
       "    <tr>\n",
       "      <th>Oregon</th>\n",
       "      <td>447</td>\n",
       "      <td>1359</td>\n",
       "      <td>408</td>\n",
       "    </tr>\n",
       "    <tr>\n",
       "      <th>Washington</th>\n",
       "      <td>135</td>\n",
       "      <td>428</td>\n",
       "      <td>120</td>\n",
       "    </tr>\n",
       "  </tbody>\n",
       "</table>\n",
       "</div>"
      ],
      "text/plain": [
       "location_code  Rural  Suburban  Urban\n",
       "state                                \n",
       "Arizona          296       919    256\n",
       "California       537      1645    493\n",
       "Nevada           159       453    134\n",
       "Oregon           447      1359    408\n",
       "Washington       135       428    120"
      ]
     },
     "execution_count": 68,
     "metadata": {},
     "output_type": "execute_result"
    }
   ],
   "source": [
    "data_crosstab = pd.crosstab(customer_df['state'], customer_df['location_code'], margins = False)\n",
    "data_crosstab"
   ]
  },
  {
   "cell_type": "code",
   "execution_count": 69,
   "metadata": {},
   "outputs": [
    {
     "name": "stdout",
     "output_type": "stream",
     "text": [
      "The Chi2 value is:  1.76\n",
      "The p-value is:  0.9874751853079983\n",
      "The number of degrees of freedom is:  8\n",
      "The expected frequencies are: \n"
     ]
    },
    {
     "data": {
      "text/html": [
       "<div>\n",
       "<style scoped>\n",
       "    .dataframe tbody tr th:only-of-type {\n",
       "        vertical-align: middle;\n",
       "    }\n",
       "\n",
       "    .dataframe tbody tr th {\n",
       "        vertical-align: top;\n",
       "    }\n",
       "\n",
       "    .dataframe thead th {\n",
       "        text-align: right;\n",
       "    }\n",
       "</style>\n",
       "<table border=\"1\" class=\"dataframe\">\n",
       "  <thead>\n",
       "    <tr style=\"text-align: right;\">\n",
       "      <th>location_code</th>\n",
       "      <th>Rural</th>\n",
       "      <th>Suburban</th>\n",
       "      <th>Urban</th>\n",
       "    </tr>\n",
       "    <tr>\n",
       "      <th>state</th>\n",
       "      <th></th>\n",
       "      <th></th>\n",
       "      <th></th>\n",
       "    </tr>\n",
       "  </thead>\n",
       "  <tbody>\n",
       "    <tr>\n",
       "      <th>Arizona</th>\n",
       "      <td>297.259468</td>\n",
       "      <td>907.264604</td>\n",
       "      <td>266.475928</td>\n",
       "    </tr>\n",
       "    <tr>\n",
       "      <th>California</th>\n",
       "      <td>540.563615</td>\n",
       "      <td>1649.852356</td>\n",
       "      <td>484.584029</td>\n",
       "    </tr>\n",
       "    <tr>\n",
       "      <th>Nevada</th>\n",
       "      <td>150.751573</td>\n",
       "      <td>460.108358</td>\n",
       "      <td>135.140069</td>\n",
       "    </tr>\n",
       "    <tr>\n",
       "      <th>Oregon</th>\n",
       "      <td>447.404802</td>\n",
       "      <td>1365.522660</td>\n",
       "      <td>401.072538</td>\n",
       "    </tr>\n",
       "    <tr>\n",
       "      <th>Washington</th>\n",
       "      <td>138.020542</td>\n",
       "      <td>421.252022</td>\n",
       "      <td>123.727436</td>\n",
       "    </tr>\n",
       "  </tbody>\n",
       "</table>\n",
       "</div>"
      ],
      "text/plain": [
       "location_code       Rural     Suburban       Urban\n",
       "state                                             \n",
       "Arizona        297.259468   907.264604  266.475928\n",
       "California     540.563615  1649.852356  484.584029\n",
       "Nevada         150.751573   460.108358  135.140069\n",
       "Oregon         447.404802  1365.522660  401.072538\n",
       "Washington     138.020542   421.252022  123.727436"
      ]
     },
     "execution_count": 69,
     "metadata": {},
     "output_type": "execute_result"
    }
   ],
   "source": [
    "from scipy.stats import chi2_contingency\n",
    "\n",
    "chi2, p_value, dof, expected_freq = chi2_contingency(data_crosstab, correction=False)\n",
    "\n",
    "print(\"The Chi2 value is: \",round(chi2,2))\n",
    "print(\"The p-value is: \",p_value)\n",
    "print(\"The number of degrees of freedom is: \",dof)\n",
    "print(\"The expected frequencies are: \")\n",
    "pd.DataFrame(expected_freq, columns=data_crosstab.columns, index=data_crosstab.index)"
   ]
  },
  {
   "cell_type": "markdown",
   "metadata": {},
   "source": [
    "Let's use the usual confidence level of 95%.\n",
    "\n",
    "Chi 2 =1.81 DF=8\n",
    "The two-tailed P value is less than 0.05 (the complementary 5%) 15.5>1.81\n",
    "\n",
    "We confirm the nul hypotheses columns state and location_code are not related.\n",
    "\n",
    "decision: we will not drop columns here "
   ]
  },
  {
   "cell_type": "markdown",
   "metadata": {},
   "source": [
    "## Make a copy of the dataframe you are using"
   ]
  },
  {
   "cell_type": "code",
   "execution_count": 70,
   "metadata": {},
   "outputs": [
    {
     "data": {
      "text/html": [
       "<div>\n",
       "<style scoped>\n",
       "    .dataframe tbody tr th:only-of-type {\n",
       "        vertical-align: middle;\n",
       "    }\n",
       "\n",
       "    .dataframe tbody tr th {\n",
       "        vertical-align: top;\n",
       "    }\n",
       "\n",
       "    .dataframe thead th {\n",
       "        text-align: right;\n",
       "    }\n",
       "</style>\n",
       "<table border=\"1\" class=\"dataframe\">\n",
       "  <thead>\n",
       "    <tr style=\"text-align: right;\">\n",
       "      <th></th>\n",
       "      <th>state</th>\n",
       "      <th>customer_lifetime_value</th>\n",
       "      <th>response</th>\n",
       "      <th>coverage</th>\n",
       "      <th>effective_to_date</th>\n",
       "      <th>gender</th>\n",
       "      <th>income</th>\n",
       "      <th>location_code</th>\n",
       "      <th>marital_status</th>\n",
       "      <th>monthly_premium_auto</th>\n",
       "      <th>months_since_last_claim</th>\n",
       "      <th>months_since_policy_inception</th>\n",
       "      <th>number_of_open_complaints</th>\n",
       "      <th>number_of_policies</th>\n",
       "      <th>policy_type</th>\n",
       "      <th>policy</th>\n",
       "      <th>renew_offer_type</th>\n",
       "      <th>sales_channel</th>\n",
       "      <th>total_claim_amount</th>\n",
       "      <th>vehicle_class</th>\n",
       "      <th>vehicle_size</th>\n",
       "    </tr>\n",
       "    <tr>\n",
       "      <th>customer</th>\n",
       "      <th></th>\n",
       "      <th></th>\n",
       "      <th></th>\n",
       "      <th></th>\n",
       "      <th></th>\n",
       "      <th></th>\n",
       "      <th></th>\n",
       "      <th></th>\n",
       "      <th></th>\n",
       "      <th></th>\n",
       "      <th></th>\n",
       "      <th></th>\n",
       "      <th></th>\n",
       "      <th></th>\n",
       "      <th></th>\n",
       "      <th></th>\n",
       "      <th></th>\n",
       "      <th></th>\n",
       "      <th></th>\n",
       "      <th></th>\n",
       "      <th></th>\n",
       "    </tr>\n",
       "  </thead>\n",
       "  <tbody>\n",
       "    <tr>\n",
       "      <th>BU79786</th>\n",
       "      <td>Washington</td>\n",
       "      <td>2763.519279</td>\n",
       "      <td>No</td>\n",
       "      <td>Basic</td>\n",
       "      <td>2011-02-24</td>\n",
       "      <td>F</td>\n",
       "      <td>56274</td>\n",
       "      <td>Suburban</td>\n",
       "      <td>Married</td>\n",
       "      <td>69</td>\n",
       "      <td>32</td>\n",
       "      <td>5</td>\n",
       "      <td>0</td>\n",
       "      <td>1</td>\n",
       "      <td>Corporate Auto</td>\n",
       "      <td>Corporate L3</td>\n",
       "      <td>Offer1</td>\n",
       "      <td>Agent</td>\n",
       "      <td>384.811147</td>\n",
       "      <td>Two-Door Car</td>\n",
       "      <td>Medsize</td>\n",
       "    </tr>\n",
       "    <tr>\n",
       "      <th>AI49188</th>\n",
       "      <td>Nevada</td>\n",
       "      <td>12887.431650</td>\n",
       "      <td>No</td>\n",
       "      <td>Premium</td>\n",
       "      <td>2011-02-19</td>\n",
       "      <td>F</td>\n",
       "      <td>48767</td>\n",
       "      <td>Suburban</td>\n",
       "      <td>Married</td>\n",
       "      <td>108</td>\n",
       "      <td>18</td>\n",
       "      <td>38</td>\n",
       "      <td>0</td>\n",
       "      <td>2</td>\n",
       "      <td>Personal Auto</td>\n",
       "      <td>Personal L3</td>\n",
       "      <td>Offer1</td>\n",
       "      <td>Agent</td>\n",
       "      <td>566.472247</td>\n",
       "      <td>Two-Door Car</td>\n",
       "      <td>Medsize</td>\n",
       "    </tr>\n",
       "    <tr>\n",
       "      <th>WW63253</th>\n",
       "      <td>California</td>\n",
       "      <td>7645.861827</td>\n",
       "      <td>No</td>\n",
       "      <td>Basic</td>\n",
       "      <td>2011-01-20</td>\n",
       "      <td>M</td>\n",
       "      <td>0</td>\n",
       "      <td>Suburban</td>\n",
       "      <td>Married</td>\n",
       "      <td>106</td>\n",
       "      <td>18</td>\n",
       "      <td>65</td>\n",
       "      <td>0</td>\n",
       "      <td>7</td>\n",
       "      <td>Corporate Auto</td>\n",
       "      <td>Corporate L2</td>\n",
       "      <td>Offer1</td>\n",
       "      <td>Call Center</td>\n",
       "      <td>529.881344</td>\n",
       "      <td>SUV</td>\n",
       "      <td>Medsize</td>\n",
       "    </tr>\n",
       "    <tr>\n",
       "      <th>HB64268</th>\n",
       "      <td>Washington</td>\n",
       "      <td>2813.692575</td>\n",
       "      <td>No</td>\n",
       "      <td>Basic</td>\n",
       "      <td>2011-02-03</td>\n",
       "      <td>M</td>\n",
       "      <td>43836</td>\n",
       "      <td>Rural</td>\n",
       "      <td>Single</td>\n",
       "      <td>73</td>\n",
       "      <td>12</td>\n",
       "      <td>44</td>\n",
       "      <td>0</td>\n",
       "      <td>1</td>\n",
       "      <td>Personal Auto</td>\n",
       "      <td>Personal L1</td>\n",
       "      <td>Offer1</td>\n",
       "      <td>Agent</td>\n",
       "      <td>138.130879</td>\n",
       "      <td>Four-Door Car</td>\n",
       "      <td>Medsize</td>\n",
       "    </tr>\n",
       "    <tr>\n",
       "      <th>OC83172</th>\n",
       "      <td>Oregon</td>\n",
       "      <td>8256.297800</td>\n",
       "      <td>Yes</td>\n",
       "      <td>Basic</td>\n",
       "      <td>2011-01-25</td>\n",
       "      <td>F</td>\n",
       "      <td>62902</td>\n",
       "      <td>Rural</td>\n",
       "      <td>Married</td>\n",
       "      <td>69</td>\n",
       "      <td>14</td>\n",
       "      <td>94</td>\n",
       "      <td>0</td>\n",
       "      <td>2</td>\n",
       "      <td>Personal Auto</td>\n",
       "      <td>Personal L3</td>\n",
       "      <td>Offer2</td>\n",
       "      <td>Web</td>\n",
       "      <td>159.383042</td>\n",
       "      <td>Two-Door Car</td>\n",
       "      <td>Medsize</td>\n",
       "    </tr>\n",
       "  </tbody>\n",
       "</table>\n",
       "</div>"
      ],
      "text/plain": [
       "               state  customer_lifetime_value response coverage  \\\n",
       "customer                                                          \n",
       "BU79786   Washington              2763.519279       No    Basic   \n",
       "AI49188       Nevada             12887.431650       No  Premium   \n",
       "WW63253   California              7645.861827       No    Basic   \n",
       "HB64268   Washington              2813.692575       No    Basic   \n",
       "OC83172       Oregon              8256.297800      Yes    Basic   \n",
       "\n",
       "         effective_to_date gender  income location_code marital_status  \\\n",
       "customer                                                                 \n",
       "BU79786         2011-02-24      F   56274      Suburban        Married   \n",
       "AI49188         2011-02-19      F   48767      Suburban        Married   \n",
       "WW63253         2011-01-20      M       0      Suburban        Married   \n",
       "HB64268         2011-02-03      M   43836         Rural         Single   \n",
       "OC83172         2011-01-25      F   62902         Rural        Married   \n",
       "\n",
       "          monthly_premium_auto  months_since_last_claim  \\\n",
       "customer                                                  \n",
       "BU79786                     69                       32   \n",
       "AI49188                    108                       18   \n",
       "WW63253                    106                       18   \n",
       "HB64268                     73                       12   \n",
       "OC83172                     69                       14   \n",
       "\n",
       "          months_since_policy_inception  number_of_open_complaints  \\\n",
       "customer                                                             \n",
       "BU79786                               5                          0   \n",
       "AI49188                              38                          0   \n",
       "WW63253                              65                          0   \n",
       "HB64268                              44                          0   \n",
       "OC83172                              94                          0   \n",
       "\n",
       "          number_of_policies     policy_type        policy renew_offer_type  \\\n",
       "customer                                                                      \n",
       "BU79786                    1  Corporate Auto  Corporate L3           Offer1   \n",
       "AI49188                    2   Personal Auto   Personal L3           Offer1   \n",
       "WW63253                    7  Corporate Auto  Corporate L2           Offer1   \n",
       "HB64268                    1   Personal Auto   Personal L1           Offer1   \n",
       "OC83172                    2   Personal Auto   Personal L3           Offer2   \n",
       "\n",
       "         sales_channel  total_claim_amount  vehicle_class vehicle_size  \n",
       "customer                                                                \n",
       "BU79786          Agent          384.811147   Two-Door Car      Medsize  \n",
       "AI49188          Agent          566.472247   Two-Door Car      Medsize  \n",
       "WW63253    Call Center          529.881344            SUV      Medsize  \n",
       "HB64268          Agent          138.130879  Four-Door Car      Medsize  \n",
       "OC83172            Web          159.383042   Two-Door Car      Medsize  "
      ]
     },
     "execution_count": 70,
     "metadata": {},
     "output_type": "execute_result"
    }
   ],
   "source": [
    "data_copy=customer_df.copy()\n",
    "data_copy.head()"
   ]
  },
  {
   "cell_type": "code",
   "execution_count": 71,
   "metadata": {},
   "outputs": [],
   "source": [
    "# Normalizing the continuous data"
   ]
  },
  {
   "cell_type": "code",
   "execution_count": 72,
   "metadata": {},
   "outputs": [
    {
     "data": {
      "text/plain": [
       "array([[0.04904803, 0.99877307, 0.00682978],\n",
       "       [0.25547847, 0.96674953, 0.01122966],\n",
       "       [0.99760716, 0.        , 0.06913719],\n",
       "       ...,\n",
       "       [0.99534146, 0.        , 0.0964125 ],\n",
       "       [0.32425036, 0.94550225, 0.02978584],\n",
       "       [0.99013542, 0.        , 0.14011367]])"
      ]
     },
     "execution_count": 72,
     "metadata": {},
     "output_type": "execute_result"
    }
   ],
   "source": [
    "from sklearn.preprocessing import Normalizer\n",
    "\n",
    "transformer = Normalizer().fit(data_copy[continuous])\n",
    "x_normalized = transformer.transform(data_copy[continuous])\n",
    "x_normalized"
   ]
  },
  {
   "cell_type": "markdown",
   "metadata": {},
   "source": [
    "## Encode the categorical variables\n"
   ]
  },
  {
   "cell_type": "markdown",
   "metadata": {},
   "source": [
    "Hint for Categorical Variables\n",
    "\n",
    "You should deal with the categorical variables as shown below (for ordinal encoding, dummy code has been provided as well):\n",
    "### One hot to state\n",
    "### Ordinal to coverage\n",
    "### Ordinal to employmentstatus (was dropped)\n",
    "### Ordinal to location code\n",
    "### One hot to marital status\n",
    "### One hot to policy type\n",
    "### One hot to policy\n",
    "### One hot to renew offercustomer_df\n",
    "### One hot to sales channel\n",
    "### One hot vehicle class\n",
    "### Ordinal vehicle size"
   ]
  },
  {
   "cell_type": "code",
   "execution_count": 73,
   "metadata": {},
   "outputs": [
    {
     "data": {
      "text/plain": [
       "Personal L3     2918\n",
       "Personal L2     1813\n",
       "Personal L1     1063\n",
       "Corporate L3     869\n",
       "Corporate L2     516\n",
       "Corporate L1     299\n",
       "Special L2       139\n",
       "Special L3       119\n",
       "Special L1        53\n",
       "Name: policy, dtype: int64"
      ]
     },
     "execution_count": 73,
     "metadata": {},
     "output_type": "execute_result"
    }
   ],
   "source": [
    "data_copy['policy'].value_counts()"
   ]
  },
  {
   "cell_type": "code",
   "execution_count": 74,
   "metadata": {},
   "outputs": [],
   "source": [
    "policy_dict = {'Special L1':0,'Special L3':1,'Special L2':2, 'Corporate L1':3,'Corporate L2':4,'Corporate L3':5,'Personal L1':6,'Personal L2':7,'Personal L3':8}\n",
    "data_copy['policy'] = data_copy['policy'].replace(policy_dict)"
   ]
  },
  {
   "cell_type": "code",
   "execution_count": 75,
   "metadata": {},
   "outputs": [],
   "source": [
    "vehicle_dict = {'Small':0, 'Medsize':1, 'Large':2}\n",
    "data_copy['vehicle_size'] = data_copy['vehicle_size'].replace(vehicle_dict)\n",
    "location_dict = {'Urban':0,'Rural':1,'Suburban':2 }\n",
    "data_copy['location_code'] = data_copy['location_code'].replace(location_dict)\n",
    "coverage_dict = {'Basic':0,'Extended':1,'Premium':2}\n",
    "data_copy['coverage'] = data_copy['coverage'].replace(coverage_dict)\n",
    "state_dict = {'Washington':0,'Nevada':1,'Arizona':2, 'Oregon':3,'California':4}\n",
    "data_copy['state'] = data_copy['state'].replace(state_dict)\n",
    "renew_offer_type_dict = {'Offer1':0,'Offer2':1,'Offer3':2, 'Offer4':3}\n",
    "data_copy['renew_offer_type'] = data_copy['renew_offer_type'].replace(renew_offer_type_dict)\n",
    "\n",
    "\n",
    "\n"
   ]
  },
  {
   "cell_type": "code",
   "execution_count": 76,
   "metadata": {},
   "outputs": [],
   "source": [
    "sales_channel_dict = {'Web':0,'Call Center':1,'Branch':2, 'Agent':3}\n",
    "data_copy['sales_channel'] = data_copy['sales_channel'].replace(sales_channel_dict)"
   ]
  },
  {
   "cell_type": "code",
   "execution_count": 77,
   "metadata": {},
   "outputs": [
    {
     "data": {
      "text/plain": [
       "array([0, 2, 1], dtype=int64)"
      ]
     },
     "execution_count": 77,
     "metadata": {},
     "output_type": "execute_result"
    }
   ],
   "source": [
    "data_copy['coverage'].unique()"
   ]
  },
  {
   "cell_type": "code",
   "execution_count": 78,
   "metadata": {},
   "outputs": [
    {
     "data": {
      "text/plain": [
       "array([1, 0, 2], dtype=int64)"
      ]
     },
     "execution_count": 78,
     "metadata": {},
     "output_type": "execute_result"
    }
   ],
   "source": [
    "data_copy['vehicle_size'].unique()"
   ]
  },
  {
   "cell_type": "code",
   "execution_count": 79,
   "metadata": {},
   "outputs": [
    {
     "data": {
      "text/plain": [
       "array([2, 1, 0], dtype=int64)"
      ]
     },
     "execution_count": 79,
     "metadata": {},
     "output_type": "execute_result"
    }
   ],
   "source": [
    "data_copy['location_code'].unique()"
   ]
  },
  {
   "cell_type": "code",
   "execution_count": 80,
   "metadata": {},
   "outputs": [],
   "source": [
    "cat2 = data_copy.select_dtypes('object')\n",
    "num2 = data_copy.select_dtypes(np.number)"
   ]
  },
  {
   "cell_type": "code",
   "execution_count": 81,
   "metadata": {},
   "outputs": [
    {
     "data": {
      "text/html": [
       "<div>\n",
       "<style scoped>\n",
       "    .dataframe tbody tr th:only-of-type {\n",
       "        vertical-align: middle;\n",
       "    }\n",
       "\n",
       "    .dataframe tbody tr th {\n",
       "        vertical-align: top;\n",
       "    }\n",
       "\n",
       "    .dataframe thead th {\n",
       "        text-align: right;\n",
       "    }\n",
       "</style>\n",
       "<table border=\"1\" class=\"dataframe\">\n",
       "  <thead>\n",
       "    <tr style=\"text-align: right;\">\n",
       "      <th></th>\n",
       "      <th>response</th>\n",
       "      <th>gender</th>\n",
       "      <th>marital_status</th>\n",
       "      <th>policy_type</th>\n",
       "      <th>vehicle_class</th>\n",
       "    </tr>\n",
       "    <tr>\n",
       "      <th>customer</th>\n",
       "      <th></th>\n",
       "      <th></th>\n",
       "      <th></th>\n",
       "      <th></th>\n",
       "      <th></th>\n",
       "    </tr>\n",
       "  </thead>\n",
       "  <tbody>\n",
       "    <tr>\n",
       "      <th>BU79786</th>\n",
       "      <td>No</td>\n",
       "      <td>F</td>\n",
       "      <td>Married</td>\n",
       "      <td>Corporate Auto</td>\n",
       "      <td>Two-Door Car</td>\n",
       "    </tr>\n",
       "    <tr>\n",
       "      <th>AI49188</th>\n",
       "      <td>No</td>\n",
       "      <td>F</td>\n",
       "      <td>Married</td>\n",
       "      <td>Personal Auto</td>\n",
       "      <td>Two-Door Car</td>\n",
       "    </tr>\n",
       "    <tr>\n",
       "      <th>WW63253</th>\n",
       "      <td>No</td>\n",
       "      <td>M</td>\n",
       "      <td>Married</td>\n",
       "      <td>Corporate Auto</td>\n",
       "      <td>SUV</td>\n",
       "    </tr>\n",
       "    <tr>\n",
       "      <th>HB64268</th>\n",
       "      <td>No</td>\n",
       "      <td>M</td>\n",
       "      <td>Single</td>\n",
       "      <td>Personal Auto</td>\n",
       "      <td>Four-Door Car</td>\n",
       "    </tr>\n",
       "    <tr>\n",
       "      <th>OC83172</th>\n",
       "      <td>Yes</td>\n",
       "      <td>F</td>\n",
       "      <td>Married</td>\n",
       "      <td>Personal Auto</td>\n",
       "      <td>Two-Door Car</td>\n",
       "    </tr>\n",
       "    <tr>\n",
       "      <th>...</th>\n",
       "      <td>...</td>\n",
       "      <td>...</td>\n",
       "      <td>...</td>\n",
       "      <td>...</td>\n",
       "      <td>...</td>\n",
       "    </tr>\n",
       "    <tr>\n",
       "      <th>YM19146</th>\n",
       "      <td>No</td>\n",
       "      <td>F</td>\n",
       "      <td>Single</td>\n",
       "      <td>Personal Auto</td>\n",
       "      <td>Four-Door Car</td>\n",
       "    </tr>\n",
       "    <tr>\n",
       "      <th>PK87824</th>\n",
       "      <td>Yes</td>\n",
       "      <td>F</td>\n",
       "      <td>Divorced</td>\n",
       "      <td>Corporate Auto</td>\n",
       "      <td>Four-Door Car</td>\n",
       "    </tr>\n",
       "    <tr>\n",
       "      <th>TD14365</th>\n",
       "      <td>No</td>\n",
       "      <td>M</td>\n",
       "      <td>Single</td>\n",
       "      <td>Corporate Auto</td>\n",
       "      <td>Four-Door Car</td>\n",
       "    </tr>\n",
       "    <tr>\n",
       "      <th>UP19263</th>\n",
       "      <td>No</td>\n",
       "      <td>M</td>\n",
       "      <td>Married</td>\n",
       "      <td>Personal Auto</td>\n",
       "      <td>Four-Door Car</td>\n",
       "    </tr>\n",
       "    <tr>\n",
       "      <th>Y167826</th>\n",
       "      <td>No</td>\n",
       "      <td>M</td>\n",
       "      <td>Single</td>\n",
       "      <td>Corporate Auto</td>\n",
       "      <td>Two-Door Car</td>\n",
       "    </tr>\n",
       "  </tbody>\n",
       "</table>\n",
       "<p>7789 rows × 5 columns</p>\n",
       "</div>"
      ],
      "text/plain": [
       "         response gender marital_status     policy_type  vehicle_class\n",
       "customer                                                              \n",
       "BU79786        No      F        Married  Corporate Auto   Two-Door Car\n",
       "AI49188        No      F        Married   Personal Auto   Two-Door Car\n",
       "WW63253        No      M        Married  Corporate Auto            SUV\n",
       "HB64268        No      M         Single   Personal Auto  Four-Door Car\n",
       "OC83172       Yes      F        Married   Personal Auto   Two-Door Car\n",
       "...           ...    ...            ...             ...            ...\n",
       "YM19146        No      F         Single   Personal Auto  Four-Door Car\n",
       "PK87824       Yes      F       Divorced  Corporate Auto  Four-Door Car\n",
       "TD14365        No      M         Single  Corporate Auto  Four-Door Car\n",
       "UP19263        No      M        Married   Personal Auto  Four-Door Car\n",
       "Y167826        No      M         Single  Corporate Auto   Two-Door Car\n",
       "\n",
       "[7789 rows x 5 columns]"
      ]
     },
     "execution_count": 81,
     "metadata": {},
     "output_type": "execute_result"
    }
   ],
   "source": [
    "cat2"
   ]
  },
  {
   "cell_type": "code",
   "execution_count": 82,
   "metadata": {},
   "outputs": [],
   "source": [
    "#df_index = cat2.index\n",
    "#encoder = OneHotEncoder(handle_unknown='error', drop='first').fit(cat2) \n",
    "#encoded = encoder.transform(cat2).toarray()\n",
    "#encoded"
   ]
  },
  {
   "cell_type": "code",
   "execution_count": 83,
   "metadata": {},
   "outputs": [],
   "source": [
    "#data_copy=pd.get_dummies(data_copy,drop_first=True)\n"
   ]
  },
  {
   "cell_type": "code",
   "execution_count": 84,
   "metadata": {},
   "outputs": [],
   "source": [
    "#data_copy.info()"
   ]
  },
  {
   "cell_type": "code",
   "execution_count": 85,
   "metadata": {},
   "outputs": [
    {
     "data": {
      "text/plain": [
       "<function matplotlib.pyplot.show(close=None, block=None)>"
      ]
     },
     "execution_count": 85,
     "metadata": {},
     "output_type": "execute_result"
    },
    {
     "data": {
      "image/png": "[encoded data removed]",
      "text/plain": [
       "<Figure size 432x288 with 1 Axes>"
      ]
     },
     "metadata": {
      "needs_background": "light"
     },
     "output_type": "display_data"
    }
   ],
   "source": [
    "sns.lineplot(x = 'effective_to_date', y = 'total_claim_amount', data = data_copy) \n",
    "plt.xticks(rotation=60)\n",
    "plt.show"
   ]
  },
  {
   "cell_type": "code",
   "execution_count": 86,
   "metadata": {},
   "outputs": [
    {
     "data": {
      "text/plain": [
       "count                    7789\n",
       "unique                     59\n",
       "top       2011-01-10 00:00:00\n",
       "freq                      171\n",
       "first     2011-01-01 00:00:00\n",
       "last      2011-02-28 00:00:00\n",
       "Name: effective_to_date, dtype: object"
      ]
     },
     "execution_count": 86,
     "metadata": {},
     "output_type": "execute_result"
    }
   ],
   "source": [
    "data_copy['effective_to_date'].describe()"
   ]
  },
  {
   "cell_type": "code",
   "execution_count": 87,
   "metadata": {},
   "outputs": [
    {
     "name": "stdout",
     "output_type": "stream",
     "text": [
      "<class 'pandas.core.frame.DataFrame'>\n",
      "Index: 7789 entries, BU79786 to Y167826\n",
      "Data columns (total 21 columns):\n",
      " #   Column                         Non-Null Count  Dtype         \n",
      "---  ------                         --------------  -----         \n",
      " 0   state                          7789 non-null   int64         \n",
      " 1   customer_lifetime_value        7789 non-null   float64       \n",
      " 2   response                       7789 non-null   object        \n",
      " 3   coverage                       7789 non-null   int64         \n",
      " 4   effective_to_date              7789 non-null   datetime64[ns]\n",
      " 5   gender                         7789 non-null   object        \n",
      " 6   income                         7789 non-null   int64         \n",
      " 7   location_code                  7789 non-null   int64         \n",
      " 8   marital_status                 7789 non-null   object        \n",
      " 9   monthly_premium_auto           7789 non-null   int64         \n",
      " 10  months_since_last_claim        7789 non-null   int64         \n",
      " 11  months_since_policy_inception  7789 non-null   int64         \n",
      " 12  number_of_open_complaints      7789 non-null   int64         \n",
      " 13  number_of_policies             7789 non-null   int64         \n",
      " 14  policy_type                    7789 non-null   object        \n",
      " 15  policy                         7789 non-null   int64         \n",
      " 16  renew_offer_type               7789 non-null   int64         \n",
      " 17  sales_channel                  7789 non-null   int64         \n",
      " 18  total_claim_amount             7789 non-null   float64       \n",
      " 19  vehicle_class                  7789 non-null   object        \n",
      " 20  vehicle_size                   7789 non-null   int64         \n",
      "dtypes: datetime64[ns](1), float64(2), int64(13), object(5)\n",
      "memory usage: 1.3+ MB\n"
     ]
    }
   ],
   "source": [
    "data_copy.info()"
   ]
  },
  {
   "cell_type": "code",
   "execution_count": 88,
   "metadata": {},
   "outputs": [],
   "source": [
    "#data_copy[\"ts\"] = pd.to_timestamp(data_copy[\"effective_to_date\"]) #dt.timestamp()#.apply(lambda x: pd.Timestamp(x))"
   ]
  },
  {
   "cell_type": "code",
   "execution_count": 89,
   "metadata": {},
   "outputs": [],
   "source": [
    "#data_copy.ts"
   ]
  },
  {
   "cell_type": "markdown",
   "metadata": {},
   "source": [
    "import datetime as dt\n",
    "import numpy as np\n",
    "df = pd.DataFrame(index=pd.DatetimeIndex(start=dt.datetime(2011,1,1,0,0,0),\n",
    "   end=dt.datetime(2011,2,28,0,0,0), freq='H'))\\\n",
    "   .reset_index().rename(columns={'index':'datetime'})\n",
    "print(\"Sample datetime data:\")\n",
    "print(df.head(10))\n",
    "df['ts'] = df.datetime.values.astype(np.int64) // 10 ** 9\n",
    "print(\"\\nConvert datetime to timestamp:\")\n",
    "print (df)"
   ]
  },
  {
   "cell_type": "code",
   "execution_count": 90,
   "metadata": {},
   "outputs": [],
   "source": [
    "data_copy[\"ts\"] = data_copy[\"effective_to_date\"].astype(\"int64\")/1e9 # the division exclude milliseconds bringing it down to seconds"
   ]
  },
  {
   "cell_type": "code",
   "execution_count": 91,
   "metadata": {},
   "outputs": [
    {
     "data": {
      "text/plain": [
       "1298073600.0"
      ]
     },
     "execution_count": 91,
     "metadata": {},
     "output_type": "execute_result"
    }
   ],
   "source": [
    "data_copy[\"ts\"].iloc[1]"
   ]
  },
  {
   "cell_type": "code",
   "execution_count": 92,
   "metadata": {},
   "outputs": [],
   "source": [
    "data_copy.drop('effective_to_date', axis = 1, inplace = True)"
   ]
  },
  {
   "cell_type": "code",
   "execution_count": 93,
   "metadata": {},
   "outputs": [
    {
     "name": "stdout",
     "output_type": "stream",
     "text": [
      "<class 'pandas.core.frame.DataFrame'>\n",
      "Index: 7789 entries, BU79786 to Y167826\n",
      "Data columns (total 21 columns):\n",
      " #   Column                         Non-Null Count  Dtype  \n",
      "---  ------                         --------------  -----  \n",
      " 0   state                          7789 non-null   int64  \n",
      " 1   customer_lifetime_value        7789 non-null   float64\n",
      " 2   response                       7789 non-null   object \n",
      " 3   coverage                       7789 non-null   int64  \n",
      " 4   gender                         7789 non-null   object \n",
      " 5   income                         7789 non-null   int64  \n",
      " 6   location_code                  7789 non-null   int64  \n",
      " 7   marital_status                 7789 non-null   object \n",
      " 8   monthly_premium_auto           7789 non-null   int64  \n",
      " 9   months_since_last_claim        7789 non-null   int64  \n",
      " 10  months_since_policy_inception  7789 non-null   int64  \n",
      " 11  number_of_open_complaints      7789 non-null   int64  \n",
      " 12  number_of_policies             7789 non-null   int64  \n",
      " 13  policy_type                    7789 non-null   object \n",
      " 14  policy                         7789 non-null   int64  \n",
      " 15  renew_offer_type               7789 non-null   int64  \n",
      " 16  sales_channel                  7789 non-null   int64  \n",
      " 17  total_claim_amount             7789 non-null   float64\n",
      " 18  vehicle_class                  7789 non-null   object \n",
      " 19  vehicle_size                   7789 non-null   int64  \n",
      " 20  ts                             7789 non-null   float64\n",
      "dtypes: float64(3), int64(13), object(5)\n",
      "memory usage: 1.3+ MB\n"
     ]
    }
   ],
   "source": [
    "data_copy.info()"
   ]
  },
  {
   "cell_type": "code",
   "execution_count": 94,
   "metadata": {},
   "outputs": [],
   "source": [
    "data_copy=pd.get_dummies(data_copy,drop_first=True)\n"
   ]
  },
  {
   "cell_type": "code",
   "execution_count": 95,
   "metadata": {},
   "outputs": [
    {
     "name": "stdout",
     "output_type": "stream",
     "text": [
      "<class 'pandas.core.frame.DataFrame'>\n",
      "Index: 7789 entries, BU79786 to Y167826\n",
      "Data columns (total 25 columns):\n",
      " #   Column                         Non-Null Count  Dtype  \n",
      "---  ------                         --------------  -----  \n",
      " 0   state                          7789 non-null   int64  \n",
      " 1   customer_lifetime_value        7789 non-null   float64\n",
      " 2   coverage                       7789 non-null   int64  \n",
      " 3   income                         7789 non-null   int64  \n",
      " 4   location_code                  7789 non-null   int64  \n",
      " 5   monthly_premium_auto           7789 non-null   int64  \n",
      " 6   months_since_last_claim        7789 non-null   int64  \n",
      " 7   months_since_policy_inception  7789 non-null   int64  \n",
      " 8   number_of_open_complaints      7789 non-null   int64  \n",
      " 9   number_of_policies             7789 non-null   int64  \n",
      " 10  policy                         7789 non-null   int64  \n",
      " 11  renew_offer_type               7789 non-null   int64  \n",
      " 12  sales_channel                  7789 non-null   int64  \n",
      " 13  total_claim_amount             7789 non-null   float64\n",
      " 14  vehicle_size                   7789 non-null   int64  \n",
      " 15  ts                             7789 non-null   float64\n",
      " 16  response_Yes                   7789 non-null   uint8  \n",
      " 17  gender_M                       7789 non-null   uint8  \n",
      " 18  marital_status_Married         7789 non-null   uint8  \n",
      " 19  marital_status_Single          7789 non-null   uint8  \n",
      " 20  policy_type_Personal Auto      7789 non-null   uint8  \n",
      " 21  policy_type_Special Auto       7789 non-null   uint8  \n",
      " 22  vehicle_class_SUV              7789 non-null   uint8  \n",
      " 23  vehicle_class_Sports Car       7789 non-null   uint8  \n",
      " 24  vehicle_class_Two-Door Car     7789 non-null   uint8  \n",
      "dtypes: float64(3), int64(13), uint8(9)\n",
      "memory usage: 1.1+ MB\n"
     ]
    }
   ],
   "source": [
    "data_copy.info()"
   ]
  },
  {
   "cell_type": "code",
   "execution_count": 96,
   "metadata": {},
   "outputs": [],
   "source": [
    "from sklearn.preprocessing import StandardScaler\n",
    "\n",
    "X = data_copy.drop('total_claim_amount', axis = 1)\n",
    "y = data_copy['total_claim_amount']\n",
    "\n",
    "transformer = StandardScaler().fit(X)\n",
    "x_standardized = transformer.transform(X)"
   ]
  },
  {
   "cell_type": "code",
   "execution_count": 97,
   "metadata": {},
   "outputs": [],
   "source": [
    "data_standardized = pd.DataFrame(x_standardized,columns=data_copy.columns.tolist()[:-1])\n",
    "data_standardized.head()\n",
    "X = data_copy.drop('total_claim_amount', axis = 1)\n",
    "y = data_copy['total_claim_amount']"
   ]
  },
  {
   "cell_type": "code",
   "execution_count": 98,
   "metadata": {},
   "outputs": [],
   "source": [
    "from sklearn.model_selection import train_test_split\n",
    "\n",
    "X_train, X_test, y_train, y_test = train_test_split(X, y, test_size=0.3, random_state=100)"
   ]
  },
  {
   "cell_type": "code",
   "execution_count": 99,
   "metadata": {},
   "outputs": [],
   "source": [
    "from sklearn import linear_model\n",
    "\n",
    "\n",
    "lm = linear_model.LinearRegression()\n",
    "\n",
    "# We \"train\" our linear model based on the data available on X_train and y_train\n",
    "model = lm.fit(X_train,y_train)"
   ]
  },
  {
   "cell_type": "code",
   "execution_count": 100,
   "metadata": {},
   "outputs": [],
   "source": [
    "predictions  = lm.predict(X_test)"
   ]
  },
  {
   "cell_type": "code",
   "execution_count": 101,
   "metadata": {},
   "outputs": [
    {
     "data": {
      "text/plain": [
       "KNeighborsRegressor(n_neighbors=8)"
      ]
     },
     "execution_count": 101,
     "metadata": {},
     "output_type": "execute_result"
    }
   ],
   "source": [
    "from sklearn.neighbors import KNeighborsRegressor\n",
    "\n",
    "knn_model = KNeighborsRegressor(n_neighbors=8) # The keyword \"n_neighbors\" is what sets the K.\n",
    "knn_model.fit(X_train, y_train)"
   ]
  },
  {
   "cell_type": "code",
   "execution_count": 102,
   "metadata": {},
   "outputs": [],
   "source": [
    "knn_predictions = knn_model.predict(X_test)"
   ]
  },
  {
   "cell_type": "code",
   "execution_count": 103,
   "metadata": {},
   "outputs": [
    {
     "name": "stdout",
     "output_type": "stream",
     "text": [
      "The mean absolute error of the model in the test set is: 106.74\n",
      "The mean squared error of the model in the test set is: 19323.83\n",
      "The root mean squared error of the model in the test set is: 139.01\n",
      "The R2 of the model in the test set is: 0.51\n",
      "The mean absolute error of the knn model in the test set is: 144.75\n",
      "The mean squared error of the knn  model in the test set is: 33455.96\n",
      "The root mean squared error of the knn model in the test set is: 182.91\n",
      "The R2 of the model in the knn test set is: 0.15\n"
     ]
    }
   ],
   "source": [
    "from sklearn.metrics import mean_absolute_error, mean_squared_error, r2_score\n",
    "from sklearn.neighbors import KNeighborsRegressor # Regression test\n",
    "\n",
    "\n",
    "lmMAE = mean_absolute_error(y_test,predictions)\n",
    "lmMSE = mean_squared_error(y_test,predictions)\n",
    "lmRMSE = np.sqrt(lmMSE)\n",
    "lmR2 = r2_score(y_test,predictions)\n",
    "\n",
    "print(\"The mean absolute error of the model in the test set is: %6.2f\" % (lmMAE))\n",
    "print(\"The mean squared error of the model in the test set is: %6.2f\" % (lmMSE))\n",
    "print(\"The root mean squared error of the model in the test set is: %6.2f\" % (lmRMSE))\n",
    "print(\"The R2 of the model in the test set is: %4.2f\" % (lmR2))\n",
    "\n",
    "\n",
    "from sklearn.metrics import mean_absolute_error, mean_squared_error, r2_score\n",
    "\n",
    "MAE = mean_absolute_error(y_test,knn_predictions)\n",
    "MSE = mean_squared_error(y_test,knn_predictions)\n",
    "RMSE = np.sqrt(MSE)\n",
    "R2 = r2_score(y_test,knn_predictions)\n",
    "\n",
    "print(\"The mean absolute error of the knn model in the test set is: %6.2f\" % (MAE))\n",
    "print(\"The mean squared error of the knn  model in the test set is: %6.2f\" % (MSE))\n",
    "print(\"The root mean squared error of the knn model in the test set is: %6.2f\" % (RMSE))\n",
    "print(\"The R2 of the model in the knn test set is: %4.2f\" % (R2))"
   ]
  },
  {
   "cell_type": "code",
   "execution_count": 104,
   "metadata": {},
   "outputs": [],
   "source": [
    "def model(data, column_to_drop, type_of_model, n_neighbors=8):\n",
    "    from sklearn.model_selection import train_test_split\n",
    "    from sklearn.linear_model import LinearRegression\n",
    "    from sklearn.metrics import r2_score\n",
    "    from sklearn import linear_model\n",
    "    X = data.drop([column_to_drop], axis=1) \n",
    "    y = data[column_to_drop]\n",
    "    X_train, X_test, y_train, y_test = train_test_split(X, y, test_size=0.3, random_state=100)\n",
    "    if type_of_model == 'LinearRegressor':  \n",
    "        lm = linear_model.LinearRegression()\n",
    "        model = lm.fit(X_train,y_train)\n",
    "        predictions  = lm.predict(X_test)\n",
    "        print(\"The R2 of the linear model is: \",round(r2_score(y_test, predictions),3))\n",
    "    if type_of_model == 'KNeighborsRegressor':\n",
    "        from sklearn.neighbors import KNeighborsRegressor\n",
    "        knn_model = KNeighborsRegressor(n_neighbors=n_neighbors) \n",
    "        knn_model.fit(X_train, y_train)\n",
    "        knn_predictions = knn_model.predict(X_test)\n",
    "        print(\"The R2 of the knn model is: \",round(r2_score(y_test, knn_predictions),3))   "
   ]
  },
  {
   "cell_type": "code",
   "execution_count": 105,
   "metadata": {},
   "outputs": [
    {
     "name": "stdout",
     "output_type": "stream",
     "text": [
      "The R2 of the linear model is:  0.511\n"
     ]
    }
   ],
   "source": [
    "model(data_copy, 'total_claim_amount', 'LinearRegressor')"
   ]
  },
  {
   "cell_type": "code",
   "execution_count": 106,
   "metadata": {},
   "outputs": [
    {
     "name": "stdout",
     "output_type": "stream",
     "text": [
      "The R2 of the knn model is:  0.153\n"
     ]
    }
   ],
   "source": [
    "model(data_copy, 'total_claim_amount', 'KNeighborsRegressor', n_neighbors=8)\n"
   ]
  },
  {
   "cell_type": "code",
   "execution_count": 109,
   "metadata": {},
   "outputs": [],
   "source": [
    "scores = [] # We will store here the R2 values for each of our K-NN models with different K-values.\n",
    "for i in range(1,10): # The values of K. = 3,4,5\n",
    "    model = KNeighborsRegressor(n_neighbors=i)\n",
    "    model.fit(X_train, y_train)\n",
    "    scores.append(model.score(X_test, y_test))"
   ]
  },
  {
   "cell_type": "code",
   "execution_count": 110,
   "metadata": {},
   "outputs": [
    {
     "data": {
      "text/plain": [
       "Text(0, 0.5, 'R2')"
      ]
     },
     "execution_count": 110,
     "metadata": {},
     "output_type": "execute_result"
    },
    {
     "data": {
      "image/png": "[encoded data removed]",
      "text/plain": [
       "<Figure size 720x432 with 1 Axes>"
      ]
     },
     "metadata": {
      "needs_background": "light"
     },
     "output_type": "display_data"
    }
   ],
   "source": [
    "plt.figure(figsize=(10,6))\n",
    "plt.plot(range(1,10), scores, color = 'blue', linestyle='dashed',\n",
    "         marker='o', markerfacecolor='red', markersize=10)\n",
    "plt.title('R2 vs. K Value')\n",
    "plt.xlabel('K')\n",
    "plt.ylabel('R2')"
   ]
  },
  {
   "cell_type": "code",
   "execution_count": null,
   "metadata": {},
   "outputs": [],
   "source": []
  }
 ],
 "metadata": {
  "kernelspec": {
   "display_name": "Python 3",
   "language": "python",
   "name": "python3"
  },
  "language_info": {
   "codemirror_mode": {
    "name": "ipython",
    "version": 3
   },
   "file_extension": ".py",
   "mimetype": "text/x-python",
   "name": "python",
   "nbconvert_exporter": "python",
   "pygments_lexer": "ipython3",
   "version": "3.8.5"
  }
 },
 "nbformat": 4,
 "nbformat_minor": 4
}
